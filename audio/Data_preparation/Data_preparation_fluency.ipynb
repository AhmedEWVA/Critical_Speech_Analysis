{
 "cells": [
  {
   "cell_type": "markdown",
   "metadata": {},
   "source": [
    "# Data preprocessing for fluency classification"
   ]
  },
  {
   "cell_type": "markdown",
   "metadata": {},
   "source": [
    "The goal of this notebook is to generate a csv file that contains for each row the extracted features for a particular audio file and the corresponding fluency class."
   ]
  },
  {
   "cell_type": "markdown",
   "metadata": {},
   "source": [
    "## Importing packages"
   ]
  },
  {
   "cell_type": "code",
   "execution_count": 29,
   "metadata": {},
   "outputs": [],
   "source": [
    "from pyAudioAnalysis import ShortTermFeatures as aF\n",
    "from pyAudioAnalysis import audioBasicIO as aIO \n",
    "from pyAudioAnalysis import MidTermFeatures as aFm\n",
    "\n",
    "import plotly.graph_objs as go \n",
    "import plotly\n",
    "import IPython\n",
    "\n",
    "import glob\n",
    "import numpy as np\n",
    "import pandas as pd\n",
    "import parselmouth\n",
    "from parselmouth.praat import call\n",
    "\n",
    "import pandas as pd\n",
    "import matplotlib.pyplot as plt\n",
    "import random\n",
    "#\n",
    "import os, sklearn.cluster\n",
    "from pyAudioAnalysis.MidTermFeatures import mid_feature_extraction as mT\n",
    "from pyAudioAnalysis.audioBasicIO import read_audio_file, stereo_to_mono\n",
    "from pyAudioAnalysis.audioSegmentation import labels_to_segments\n",
    "#from pyAudioAnalysis.audioTrainTest import normalize_features\n",
    "import numpy as np\n",
    "import scipy.io.wavfile as wavfile\n",
    "import IPython\n",
    "import sys\n",
    "\n",
    "# librosa is a Python library for analyzing audio and music. It can be used to extract the data from the audio files we will see it later.\n",
    "import librosa\n",
    "import librosa.display\n",
    "import seaborn as sns\n",
    "import matplotlib.pyplot as plt\n",
    "\n",
    "from sklearn.preprocessing import StandardScaler, OneHotEncoder\n",
    "from sklearn.metrics import confusion_matrix, classification_report\n",
    "from sklearn.model_selection import train_test_split\n"
   ]
  },
  {
   "cell_type": "code",
   "execution_count": 52,
   "metadata": {},
   "outputs": [],
   "source": [
    "low = \"fluency_dataset/Low/\"\n",
    "intermediate = \"fluency_dataset/Intermediate/\"\n",
    "high = \"fluency_dataset/High/\""
   ]
  },
  {
   "cell_type": "markdown",
   "metadata": {},
   "source": [
    "## Features extraction"
   ]
  },
  {
   "cell_type": "code",
   "execution_count": 8,
   "metadata": {},
   "outputs": [],
   "source": [
    "def measurePitch(voiceID, f0min, f0max, unit):\n",
    "    sound = parselmouth.Sound(voiceID) # read the sound\n",
    "    pitch = call(sound, \"To Pitch\", 0.0, f0min, f0max) #create a praat pitch object\n",
    "    meanF0 = call(pitch, \"Get mean\", 0, 0, unit) # get mean pitch\n",
    "    stdevF0 = call(pitch, \"Get standard deviation\", 0 ,0, unit) # get standard deviation\n",
    "    harmonicity = call(sound, \"To Harmonicity (cc)\", 0.01, 75, 0.1, 1.0)\n",
    "    hnr = call(harmonicity, \"Get mean\", 0, 0)\n",
    "    pointProcess = call(sound, \"To PointProcess (periodic, cc)\", f0min, f0max)\n",
    "    localJitter = call(pointProcess, \"Get jitter (local)\", 0, 0, 0.0001, 0.02, 1.3)\n",
    "    localabsoluteJitter = call(pointProcess, \"Get jitter (local, absolute)\", 0, 0, 0.0001, 0.02, 1.3)\n",
    "    rapJitter = call(pointProcess, \"Get jitter (rap)\", 0, 0, 0.0001, 0.02, 1.3)\n",
    "    ppq5Jitter = call(pointProcess, \"Get jitter (ppq5)\", 0, 0, 0.0001, 0.02, 1.3)\n",
    "    ddpJitter = call(pointProcess, \"Get jitter (ddp)\", 0, 0, 0.0001, 0.02, 1.3)\n",
    "    localShimmer =  call([sound, pointProcess], \"Get shimmer (local)\", 0, 0, 0.0001, 0.02, 1.3, 1.6)\n",
    "    localdbShimmer = call([sound, pointProcess], \"Get shimmer (local_dB)\", 0, 0, 0.0001, 0.02, 1.3, 1.6)\n",
    "    apq3Shimmer = call([sound, pointProcess], \"Get shimmer (apq3)\", 0, 0, 0.0001, 0.02, 1.3, 1.6)\n",
    "    aqpq5Shimmer = call([sound, pointProcess], \"Get shimmer (apq5)\", 0, 0, 0.0001, 0.02, 1.3, 1.6)\n",
    "    apq11Shimmer =  call([sound, pointProcess], \"Get shimmer (apq11)\", 0, 0, 0.0001, 0.02, 1.3, 1.6)\n",
    "    ddaShimmer = call([sound, pointProcess], \"Get shimmer (dda)\", 0, 0, 0.0001, 0.02, 1.3, 1.6)\n",
    "    \n",
    "\n",
    "    return meanF0, stdevF0, hnr, localJitter, localabsoluteJitter, rapJitter, ppq5Jitter, ddpJitter, localShimmer, localdbShimmer, apq3Shimmer, aqpq5Shimmer, apq11Shimmer, ddaShimmer"
   ]
  },
  {
   "cell_type": "code",
   "execution_count": 56,
   "metadata": {},
   "outputs": [],
   "source": [
    "def noise(data):\n",
    "    noise_amp = 0.035*np.random.uniform()*np.amax(data)\n",
    "    data = data + noise_amp*np.random.normal(size=data.shape[0])\n",
    "    return data\n",
    "\n",
    "def stretch(data, rate=0.8):\n",
    "    return librosa.effects.time_stretch(data, rate)\n",
    "\n",
    "def shift(data):\n",
    "    shift_range = int(np.random.uniform(low=-5, high = 5)*1000)\n",
    "    return np.roll(data, shift_range)\n",
    "\n",
    "def pitch(data, sampling_rate, pitch_factor=0.7):\n",
    "    return librosa.effects.pitch_shift(data, sampling_rate, pitch_factor)\n"
   ]
  },
  {
   "cell_type": "code",
   "execution_count": 68,
   "metadata": {},
   "outputs": [],
   "source": [
    "def ext_features (s_, fs_):\n",
    "    #fs_, s_ = aIO.read_audio_file(path)\n",
    "    s_mono_ = aIO.stereo_to_mono(s_)\n",
    "\n",
    "\n",
    "    segment_len = fs_ * len(s_mono_)\n",
    "    mt, st, mt_n = aFm.mid_feature_extraction(s_mono_, fs_, segment_len * fs_, segment_len * fs_, \n",
    "                                     0.05 * fs_, 0.05 * fs_)\n",
    "    mt_praat = measurePitch(s_mono_, 75, 500, \"Hertz\")\n",
    "\n",
    "    mt = mt.reshape(-1)\n",
    "    features = np.concatenate((mt, mt_praat), axis=None)\n",
    "    return features\n",
    "\n",
    "def get_features(path):\n",
    "    # duration and offset are used to take care of the no audio in start and the ending of each audio files as seen above.\n",
    "    s_, fs_ = librosa.load(path, duration=2.5, offset=0.6)\n",
    "    # without augmentation\n",
    "    res1 = ext_features(s_, fs_)\n",
    "    result = np.array(res1)\n",
    "    \n",
    "    return result\n",
    "\n",
    "def get_aug_features(path):\n",
    "    # duration and offset are used to take care of the no audio in start and the ending of each audio files as seen above.\n",
    "    \"\"\"    data, sample_rate = librosa.load(path, duration=2.5, offset=0.6)\n",
    "    s_, fs_ = librosa.load(path, duration=2.5, offset=0.6)\"\"\"\n",
    "    fs_, s_ = aIO.read_audio_file(path)\n",
    "    # without augmentation\n",
    "    res1 = ext_features(s_, fs_)\n",
    "    result = np.array(res1)\n",
    "    \n",
    "    \"\"\"# data with noise\n",
    "    noise_data = noise(s_)\n",
    "    res2 = ext_features(noise_data, fs_)\n",
    "    result = np.vstack((result, res2)) # stacking vertically\"\"\"\n",
    "    \n",
    "    \n",
    "    return result"
   ]
  },
  {
   "cell_type": "code",
   "execution_count": 37,
   "metadata": {},
   "outputs": [],
   "source": [
    "import sounddevice as sd\n",
    "\n",
    "sd.play(s_)"
   ]
  },
  {
   "cell_type": "code",
   "execution_count": 40,
   "metadata": {},
   "outputs": [
    {
     "name": "stdout",
     "output_type": "stream",
     "text": [
      "5.0\n"
     ]
    }
   ],
   "source": [
    "print(len(s_)/fs_)"
   ]
  },
  {
   "cell_type": "code",
   "execution_count": 54,
   "metadata": {},
   "outputs": [],
   "source": [
    "list_of_files = os.listdir(high)\n",
    "for i in os.listdir(high):\n",
    "    os.rename(high+i, high+i+\".mp3\")"
   ]
  },
  {
   "cell_type": "code",
   "execution_count": 42,
   "metadata": {},
   "outputs": [],
   "source": [
    "list_of_files = os.listdir(low)"
   ]
  },
  {
   "cell_type": "code",
   "execution_count": 44,
   "metadata": {},
   "outputs": [
    {
     "name": "stdout",
     "output_type": "stream",
     "text": [
      "['Elderly Chinese street cleaner speaks fluent English segment 29 - E', 'Avalinguo - Xoca and Josué segment 68 - J', 'Avalinguo - Xoca and Josué segment 110 - J', 'Interview with a Filippines Woman segment 54 - W', 'Avalinguo - Itzel and Friend segment 4 - I', 'Avalinguo - Dana and Konay segment 21 - D', 'Avalinguo - Dana and Konay segment 34 - D', 'Avalinguo - Itzel and Friend segment 5 - I', 'Avalinguo - Itzel and Friend segment 10 - I', 'Avalinguo - Xoca and Josué segment 105 - J', 'Avalinguo - Xoca and Josué segment 111 - J', 'Avalinguo - Xoca and Josué segment 55 - J', 'Elderly Chinese street cleaner speaks fluent English segment 28 - E', 'Avalinguo - Xoca and Josué segment 57 - J', 'Avalinguo - Xoca and Josué segment 113 - J', 'Interview with a Filippines Woman segment 43 - W', 'Avalinguo - Xoca and Josué segment 80 - J', 'Interview with a Filippines Woman segment 57 - W', 'Avalinguo - Itzel and Friend segment 12 - I', 'Avalinguo - Itzel and Friend segment 7 - I', 'Avalinguo - Dana and Konay segment 36 - D', 'Avalinguo - Dana and Konay segment 37 - D', 'Avalinguo - Itzel and Friend segment 6 - I', 'Avalinguo - Itzel and Friend segment 13 - I', 'Avalinguo - Xoca and Josué segment 106 - J', 'Avalinguo - Xoca and Josué segment 42 - J', 'Avalinguo - Xoca and Josué segment 56 - J', 'Avalinguo - Victor and Abraham segment 8', 'Avalinguo - Victor and Abraham segment 52', 'Avalinguo - Victor and Abraham segment 99', 'Avalinguo - Xoca and Josué segment 52 - J', 'Avalinguo - Xoca and Josué segment 46 - J', 'Avalinguo - Victor and Abraham segment 55', 'Interview with a Filippines Woman segment 46 - W', 'Avalinguo - Xoca and Josué segment 91 - J', 'Interview with a Filippines Woman segment 52 - W', 'Avalinguo - Xoca and Josué segment 116 - J', 'Avalinguo - Victor and Abraham segment 97', 'Avalinguo - Victor and Abraham segment 63', 'Avalinguo - Itzel and Friend segment 17 - I', 'Avalinguo - Victor and Abraham segment 6', 'Avalinguo - Victor and Abraham segment 64', 'Avalinguo - Victor and Abraham segment 90', 'Avalinguo - Victor and Abraham segment 1', 'Avalinguo - Victor and Abraham segment 105', 'Avalinguo - Dana and Konay segment 32 - D', 'Avalinguo - Dana and Konay segment 26 - D', 'Avalinguo - Victor and Abraham segment 30', 'Avalinguo - Victor and Abraham segment 102', 'Avalinguo - Victor and Abraham segment 37', 'Avalinguo - Xoca and Josué segment 103 - J', 'Avalinguo - Victor and Abraham segment 134', 'Avalinguo - Xoca and Josué segment 84 - J', 'Interview with a Filippines Woman segment 53 - W', 'Avalinguo - Xoca and Josué segment 90 - J', 'Interview with a Filippines Woman segment 47 - W', 'Avalinguo - Xoca and Josué segment 47 - J', 'Avalinguo - Xoca and Josué segment 53 - J', 'Avalinguo - Victor and Abraham segment 39', 'Avalinguo - Victor and Abraham segment 133', 'Elderly Chinese street cleaner speaks fluent English segment 12 - E', 'Avalinguo - Victor and Abraham segment 91', 'Avalinguo - Victor and Abraham segment 65', 'Elderly Chinese street cleaner speaks fluent English segment 10 - E', 'Elderly Chinese street cleaner speaks fluent English segment 38 - E', 'Avalinguo - Xoca and Josué segment 45 - J', 'Avalinguo - Victor and Abraham segment 62', 'Avalinguo - Xoca and Josué segment 51 - J', 'Avalinguo - Victor and Abraham segment 96', 'Interview with a Filippines Woman segment 51 - W', 'Avalinguo - Victor and Abraham segment 7', 'Interview with a Filippines Woman segment 45 - W', 'Avalinguo - Xoca and Josué segment 92 - J', 'Avalinguo - Victor and Abraham segment 54', 'Avalinguo - Itzel and Friend segment 14 - I', 'Avalinguo - Itzel and Friend segment 28 - I', 'Avalinguo - Victor and Abraham segment 53', 'Avalinguo - Victor and Abraham segment 9', 'Avalinguo - Dana and Konay segment 30 - D', 'Avalinguo - Victor and Abraham segment 98', 'Avalinguo - Dana and Konay segment 24 - D', 'Avalinguo - Dana and Konay segment 18 - D', 'Avalinguo - Victor and Abraham segment 38', 'Avalinguo - Dana and Konay segment 31 - D', 'Avalinguo - Victor and Abraham segment 132', 'Avalinguo - Itzel and Friend segment 29 - I', 'Avalinguo - Xoca and Josué segment 100 - J', 'Avalinguo - Xoca and Josué segment 114 - J', 'Avalinguo - Victor and Abraham segment 103', 'Interview with a Filippines Woman segment 44 - W', 'Interview with a Filippines Woman segment 50 - W', 'Avalinguo - Xoca and Josué segment 78 - J', 'Avalinguo - Victor and Abraham segment 36', 'Avalinguo - Xoca and Josué segment 50 - J', 'Avalinguo - Xoca and Josué segment 44 - J', 'Elderly Chinese street cleaner speaks fluent English segment 39 - E', 'Avalinguo - Victor and Abraham segment 104', 'Elderly Chinese street cleaner speaks fluent English segment 11 - E', 'Avalinguo - Victor and Abraham segment 31', 'Avalinguo - Victor and Abraham segment 119', 'Avalinguo - Victor and Abraham segment 13', 'Elderly Chinese street cleaner speaks fluent English segment 62 - E', 'Avalinguo - Victor and Abraham segment 126', 'Avalinguo - Victor and Abraham segment 14', 'Avalinguo - Victor and Abraham segment 121', 'Interview with a Filippines Woman segment 37 - W', 'Interview with a Filippines Woman segment 23 - W', 'Avalinguo - Victor and Abraham segment 128', 'Avalinguo - Victor and Abraham segment 22', 'Avalinguo - Victor and Abraham segment 117', 'Avalinguo - Itzel and Friend segment 66 - I', 'Avalinguo - Dana and Konay segment 95 - D', 'Avalinguo - Victor and Abraham segment 25', 'Avalinguo - Dana and Konay segment 5 - D', 'Avalinguo - Dana and Konay segment 81 - D', 'Avalinguo - Dana and Konay segment 56 - D', 'Avalinguo - Victor and Abraham segment 110', 'Avalinguo - Dana and Konay segment 42 - D', 'Avalinguo - Dana and Konay segment 80 - D', 'Avalinguo - Dana and Konay segment 94 - D', 'Avalinguo - Dana and Konay segment 120 - D', 'Avalinguo - Dana and Konay segment 4 - D', 'Avalinguo - Victor and Abraham segment 85', 'Avalinguo - Dana and Konay segment 108 - D', 'Avalinguo - Victor and Abraham segment 71', 'Avalinguo - Itzel and Friend segment 67 - I', 'Avalinguo - Victor and Abraham segment 49', 'Avalinguo - Victor and Abraham segment 76', 'Avalinguo - Victor and Abraham segment 82', 'Interview with a Filippines Woman segment 22 - W', 'Avalinguo - Victor and Abraham segment 40', 'Avalinguo - Xoca and Josué segment 22 - J', 'Avalinguo - Victor and Abraham segment 78', 'Musira  Rwandan athlete inability to fluently articulate himself in English segment 14 - M', 'Avalinguo - Victor and Abraham segment 47', 'Avalinguo - Victor and Abraham segment 24', 'Avalinguo - Victor and Abraham segment 111', 'Elderly Chinese street cleaner speaks fluent English segment 49 - E', 'Elderly Chinese street cleaner speaks fluent English segment 61 - E', 'Avalinguo - Xoca and Josué segment 34 - J', 'Avalinguo - Victor and Abraham segment 129', 'Avalinguo - Victor and Abraham segment 23', 'Avalinguo - Xoca and Josué segment 20 - J', 'Interview with a Filippines Woman segment 20 - W', 'Interview with a Filippines Woman segment 34 - W', 'Avalinguo - Victor and Abraham segment 116', 'Avalinguo - Victor and Abraham segment 15', 'Avalinguo - Itzel and Friend segment 59 - I', 'Avalinguo - Victor and Abraham segment 120', 'Avalinguo - Itzel and Friend segment 65 - I', 'Avalinguo - Victor and Abraham segment 118', 'Avalinguo - Victor and Abraham segment 12', 'Avalinguo - Dana and Konay segment 82 - D', 'Avalinguo - Dana and Konay segment 122 - D', 'Avalinguo - Dana and Konay segment 96 - D', 'Avalinguo - Victor and Abraham segment 127', 'Avalinguo - Dana and Konay segment 69 - D', 'Avalinguo - Dana and Konay segment 41 - D', 'Avalinguo - Victor and Abraham segment 79', 'Avalinguo - Dana and Konay segment 40 - D', 'Avalinguo - Dana and Konay segment 123 - D', 'Avalinguo - Dana and Konay segment 7 - D', 'Avalinguo - Dana and Konay segment 97 - D', 'Avalinguo - Victor and Abraham segment 46', 'Avalinguo - Dana and Konay segment 83 - D', 'Avalinguo - Itzel and Friend segment 58 - I', 'Avalinguo - Victor and Abraham segment 41', 'Interview with a Filippines Woman segment 35 - W', 'Interview with a Filippines Woman segment 21 - W', 'Avalinguo - Victor and Abraham segment 48', 'Avalinguo - Victor and Abraham segment 83', 'Avalinguo - Xoca and Josué segment 35 - J', 'Avalinguo - Victor and Abraham segment 77', 'Elderly Chinese street cleaner speaks fluent English segment 60 - E', 'Elderly Chinese street cleaner speaks fluent English segment 74 - E', 'Elderly Chinese street cleaner speaks fluent English segment 48 - E', 'Avalinguo - Victor and Abraham segment 70', 'Avalinguo - Victor and Abraham segment 84', 'Elderly Chinese street cleaner speaks fluent English segment 70 - E', 'Elderly Chinese street cleaner speaks fluent English segment 64 - E', 'Musira  Rwandan athlete inability to fluently articulate himself in English segment 13 - M', 'Elderly Chinese street cleaner speaks fluent English segment 58 - E', 'Avalinguo - Xoca and Josué segment 31 - J', 'Avalinguo - Xoca and Josué segment 25 - J', 'Avalinguo - Xoca and Josué segment 19 - J', 'Interview with a Filippines Woman segment 31 - W', 'Avalinguo - Itzel and Friend segment 60 - I', 'Interview with a Filippines Woman segment 7 - W', 'Avalinguo - Itzel and Friend segment 48 - I', 'Avalinguo - Dana and Konay segment 87 - D', 'Avalinguo - Dana and Konay segment 93 - D', 'Avalinguo - Dana and Konay segment 79 - D', 'Avalinguo - Dana and Konay segment 51 - D', 'Avalinguo - Xoca and Josué segment 8 - J', 'Avalinguo - Dana and Konay segment 45 - D', 'Avalinguo - Dana and Konay segment 92 - D', 'Avalinguo - Dana and Konay segment 2 - D', 'Avalinguo - Dana and Konay segment 86 - D', 'Interview with a Filippines Woman segment 6 - W', 'Interview with a Filippines Woman segment 18 - W', 'Interview with a Filippines Woman segment 30 - W', 'Musira  Rwandan athlete inability to fluently articulate himself in English segment 2 - Musira', 'Interview with a Filippines Woman segment 24 - W', 'Avalinguo - Xoca and Josué segment 30 - J', 'Musira  Rwandan athlete inability to fluently articulate himself in English segment 12 - M', 'Elderly Chinese street cleaner speaks fluent English segment 59 - E', 'Elderly Chinese street cleaner speaks fluent English segment 65 - E', 'Elderly Chinese street cleaner speaks fluent English segment 71 - E', 'Elderly Chinese street cleaner speaks fluent English segment 67 - E', 'Elderly Chinese street cleaner speaks fluent English segment 73 - E', 'Musira  Rwandan athlete inability to fluently articulate himself in English segment 10 - M', 'Avalinguo - Xoca and Josué segment 26 - J', 'Elderly Chinese street cleaner speaks fluent English segment 8 - E', 'Musira  Rwandan athlete inability to fluently articulate himself in English segment 9 - M', 'Interview with a Filippines Woman segment 32 - W', 'Avalinguo - Dana and Konay segment 84 - D', 'Avalinguo - Dana and Konay segment 118 - D', 'Avalinguo - Dana and Konay segment 53 - D', 'Avalinguo - Dana and Konay segment 47 - D', 'Avalinguo - Dana and Konay segment 46 - D', 'Avalinguo - Dana and Konay segment 119 - D', 'Avalinguo - Dana and Konay segment 85 - D', 'Avalinguo - Dana and Konay segment 125 - D', 'Avalinguo - Dana and Konay segment 91 - D', 'Avalinguo - Itzel and Friend segment 62 - I', 'Interview with a Filippines Woman segment 5 - W', 'Elderly Chinese street cleaner speaks fluent English segment 9 - E', 'Avalinguo - Xoca and Josué segment 33 - J', 'Musira  Rwandan athlete inability to fluently articulate himself in English segment 8 - M', 'Avalinguo - Xoca and Josué segment 27 - J', 'Musira  Rwandan athlete inability to fluently articulate himself in English segment 11 - M', 'Elderly Chinese street cleaner speaks fluent English segment 72 - E', 'Elderly Chinese street cleaner speaks fluent English segment 66 - E', 'Elderly Chinese street cleaner speaks fluent English segment 57 - E', 'Musira  Rwandan athlete inability to fluently articulate himself in English segment 5 - M', 'Interview with a Filippines Woman segment 16 - W', 'Interview with a Filippines Woman segment 8 - W', 'Avalinguo - Itzel and Friend segment 47 - I', 'Avalinguo - Dana and Konay segment 114 - D', 'Avalinguo - Xoca and Josué segment 6 - J', 'Avalinguo - Dana and Konay segment 63 - D', 'Avalinguo - Dana and Konay segment 62 - D', 'Avalinguo - Dana and Konay segment 76 - D', 'Avalinguo - Xoca and Josué segment 7 - J', 'Avalinguo - Dana and Konay segment 115 - D', 'Avalinguo - Itzel and Friend segment 46 - I', 'Interview with a Filippines Woman segment 9 - W', 'Interview with a Filippines Woman segment 17 - W', 'Avalinguo - Xoca and Josué segment 17 - J', 'Musira  Rwandan athlete inability to fluently articulate himself in English segment 4 - M', 'Elderly Chinese street cleaner speaks fluent English segment 56 - E', 'Elderly Chinese street cleaner speaks fluent English segment 68 - E', 'Elderly Chinese street cleaner speaks fluent English segment 54 - E', 'Elderly Chinese street cleaner speaks fluent English segment 40 - E', 'Avalinguo - Xoca and Josué segment 29 - J', 'Musira  Rwandan athlete inability to fluently articulate himself in English segment 6 - M', 'Elderly Chinese street cleaner speaks fluent English segment 7 - E', 'Avalinguo - Xoca and Josué segment 15 - J', 'Interview with a Filippines Woman segment 29 - W', 'Interview with a Filippines Woman segment 15 - W', 'Avalinguo - Dana and Konay segment 117 - D', 'Avalinguo - Dana and Konay segment 103 - D', 'Avalinguo - Xoca and Josué segment 5 - J', 'Avalinguo - Dana and Konay segment 60 - D', 'Avalinguo - Dana and Konay segment 74 - D', 'Avalinguo - Dana and Konay segment 75 - D', 'Avalinguo - Dana and Konay segment 102 - D', 'Avalinguo - Dana and Konay segment 116 - D', 'Avalinguo - Itzel and Friend segment 51 - I', 'Avalinguo - Itzel and Friend segment 45 - I', 'Interview with a Filippines Woman segment 14 - W', 'Interview with a Filippines Woman segment 28 - W', 'Elderly Chinese street cleaner speaks fluent English segment 6 - E', 'Avalinguo - Xoca and Josué segment 28 - J', 'Elderly Chinese street cleaner speaks fluent English segment 55 - E', 'Elderly Chinese street cleaner speaks fluent English segment 69 - E', 'Avalinguo - Victor and Abraham segment 101', 'Elderly Chinese street cleaner speaks fluent English segment 51 - E', 'Elderly Chinese street cleaner speaks fluent English segment 45 - E', 'Avalinguo - Victor and Abraham segment 34', 'Avalinguo - Victor and Abraham segment 106', 'Avalinguo - Xoca and Josué segment 38 - J', 'Musira  Rwandan athlete inability to fluently articulate himself in English segment 3 - M', 'Avalinguo - Victor and Abraham segment 33', 'Interview with a Filippines Woman segment 38 - W', 'Avalinguo - Victor and Abraham segment 130', 'Avalinguo - Itzel and Friend segment 41 - I', 'Avalinguo - Itzel and Friend segment 55 - I', 'Avalinguo - Dana and Konay segment 65 - D', 'Avalinguo - Dana and Konay segment 59 - D', 'Avalinguo - Victor and Abraham segment 108', 'Avalinguo - Xoca and Josué segment 1 - J', 'Avalinguo - Dana and Konay segment 58 - D', 'Avalinguo - Dana and Konay segment 70 - D', 'Avalinguo - Victor and Abraham segment 56', 'Avalinguo - Dana and Konay segment 64 - D', 'Avalinguo - Dana and Konay segment 113 - D', 'Avalinguo - Victor and Abraham segment 69', 'Avalinguo - Victor and Abraham segment 51', 'Avalinguo - Itzel and Friend segment 54 - I', 'Avalinguo - Itzel and Friend segment 40 - I', 'Avalinguo - Victor and Abraham segment 67', 'Interview with a Filippines Woman segment 39 - W', 'Avalinguo - Victor and Abraham segment 93', 'Avalinguo - Victor and Abraham segment 2', 'Avalinguo - Victor and Abraham segment 58', 'Avalinguo - Victor and Abraham segment 94', 'Elderly Chinese street cleaner speaks fluent English segment 50 - E', 'Avalinguo - Victor and Abraham segment 60', 'Avalinguo - Victor and Abraham segment 5', 'Elderly Chinese street cleaner speaks fluent English segment 46 - E', 'Elderly Chinese street cleaner speaks fluent English segment 52 - E', 'Avalinguo - Victor and Abraham segment 109', 'Avalinguo - Victor and Abraham segment 131', 'Interview with a Filippines Woman segment 13 - W', 'Avalinguo - Victor and Abraham segment 107', 'Avalinguo - Itzel and Friend segment 56 - I', 'Avalinguo - Itzel and Friend segment 42 - I', 'Avalinguo - Victor and Abraham segment 32', 'Avalinguo - Victor and Abraham segment 100', 'Avalinguo - Dana and Konay segment 111 - D', 'Avalinguo - Dana and Konay segment 99 - D', 'Avalinguo - Dana and Konay segment 9 - D', 'Avalinguo - Dana and Konay segment 72 - D', 'Avalinguo - Dana and Konay segment 66 - D', 'Avalinguo - Victor and Abraham segment 35', 'Avalinguo - Xoca and Josué segment 3 - J', 'Avalinguo - Victor and Abraham segment 61', 'Avalinguo - Victor and Abraham segment 95', 'Avalinguo - Dana and Konay segment 73 - D', 'Avalinguo - Dana and Konay segment 98 - D', 'Avalinguo - Victor and Abraham segment 4', 'Avalinguo - Dana and Konay segment 8 - D', 'Avalinguo - Dana and Konay segment 110 - D', 'Avalinguo - Dana and Konay segment 104 - D', 'Avalinguo - Victor and Abraham segment 92', 'Avalinguo - Victor and Abraham segment 66', 'Avalinguo - Itzel and Friend segment 57 - I', 'Avalinguo - Victor and Abraham segment 59', 'Avalinguo - Victor and Abraham segment 3', 'Avalinguo - Victor and Abraham segment 50', 'Avalinguo - Xoca and Josué segment 12 - J', 'Avalinguo - Victor and Abraham segment 57', 'Elderly Chinese street cleaner speaks fluent English segment 53 - E', 'Elderly Chinese street cleaner speaks fluent English segment 47 - E', 'Avalinguo - Victor and Abraham segment 68', 'Avalinguo - Victor and Abraham segment 75', 'Elderly Chinese street cleaner speaks fluent English segment 20 - E', 'Avalinguo - Victor and Abraham segment 81', 'Avalinguo - Xoca and Josué segment 49 - J', 'Avalinguo - Victor and Abraham segment 86', 'Avalinguo - Victor and Abraham segment 72', 'Avalinguo - Xoca and Josué segment 119 - J', 'Avalinguo - Itzel and Friend segment 18 - I', 'Avalinguo - Victor and Abraham segment 44', 'Avalinguo - Itzel and Friend segment 24 - I', 'Avalinguo - Victor and Abraham segment 88', 'Avalinguo - Victor and Abraham segment 43', 'Avalinguo - Victor and Abraham segment 17', 'Avalinguo - Dana and Konay segment 15 - D', 'Avalinguo - Victor and Abraham segment 122', 'Avalinguo - Victor and Abraham segment 28', 'Avalinguo - Itzel and Friend segment 25 - I', 'Avalinguo - Victor and Abraham segment 10', 'Avalinguo - Victor and Abraham segment 125', 'Avalinguo - Victor and Abraham segment 26', 'Interview with a Filippines Woman segment 48 - W', 'Avalinguo - Xoca and Josué segment 74 - J', 'Avalinguo - Xoca and Josué segment 48 - J', 'Avalinguo - Victor and Abraham segment 113', 'Avalinguo - Victor and Abraham segment 19', 'Elderly Chinese street cleaner speaks fluent English segment 35 - E', 'Avalinguo - Victor and Abraham segment 21', 'Elderly Chinese street cleaner speaks fluent English segment 21 - E', 'Avalinguo - Victor and Abraham segment 114', 'Avalinguo - Victor and Abraham segment 89', 'Avalinguo - Victor and Abraham segment 42', 'Elderly Chinese street cleaner speaks fluent English segment 37 - E', 'Elderly Chinese street cleaner speaks fluent English segment 23 - E', 'Avalinguo - Victor and Abraham segment 45', 'Interview with a Filippines Woman segment 62 - W', 'Avalinguo - Victor and Abraham segment 73', 'Avalinguo - Itzel and Friend segment 27 - I', 'Avalinguo - Itzel and Friend segment 33 - I', 'Avalinguo - Victor and Abraham segment 87', 'Avalinguo - Victor and Abraham segment 80', 'Avalinguo - Victor and Abraham segment 74', 'Avalinguo - Victor and Abraham segment 20', 'Avalinguo - Victor and Abraham segment 115', 'Avalinguo - Victor and Abraham segment 27', 'Avalinguo - Itzel and Friend segment 32 - I', 'Avalinguo - Itzel and Friend segment 26 - I', 'Avalinguo - Victor and Abraham segment 112', 'Avalinguo - Victor and Abraham segment 18', 'Avalinguo - Victor and Abraham segment 11', 'Interview with a Filippines Woman segment 63 - W', 'Avalinguo - Victor and Abraham segment 124', 'Avalinguo - Xoca and Josué segment 77 - J', 'Elderly Chinese street cleaner speaks fluent English segment 22 - E', 'Elderly Chinese street cleaner speaks fluent English segment 36 - E', 'Avalinguo - Victor and Abraham segment 16', 'Avalinguo - Victor and Abraham segment 123', 'Avalinguo - Victor and Abraham segment 29', 'Elderly Chinese street cleaner speaks fluent English segment 32 - E', 'Elderly Chinese street cleaner speaks fluent English segment 26 - E', 'Avalinguo - Xoca and Josué segment 73 - J', 'Avalinguo - Xoca and Josué segment 67 - J', 'Avalinguo - Xoca and Josué segment 98 - J', 'Avalinguo - Dana and Konay segment 13 - D', 'Avalinguo - Itzel and Friend segment 37 - I', 'Avalinguo - Itzel and Friend segment 23 - I', 'Interview with a Filippines Woman segment 66 - W', 'Avalinguo - Xoca and Josué segment 66 - J', 'Elderly Chinese street cleaner speaks fluent English segment 27 - E', 'Elderly Chinese street cleaner speaks fluent English segment 5 - Elder', 'Elderly Chinese street cleaner speaks fluent English segment 25 - E', 'Elderly Chinese street cleaner speaks fluent English segment 31 - E', 'Elderly Chinese street cleaner speaks fluent English segment 19 - E', 'Avalinguo - Dana and Konay segment 1 - D.mp3', 'Avalinguo - Xoca and Josué segment 58 - J', 'Interview with a Filippines Woman segment 64 - W', 'Interview with a Filippines Woman segment 58 - W', 'Avalinguo - Itzel and Friend segment 35 - I', 'Avalinguo - Dana and Konay segment 11 - D', 'Avalinguo - Itzel and Friend segment 8 - I', 'Avalinguo - Dana and Konay segment 39 - D', 'Avalinguo - Dana and Konay segment 10 - D', 'Avalinguo - Itzel and Friend segment 20 - I', 'Avalinguo - Itzel and Friend segment 34 - I', 'Interview with a Filippines Woman segment 59 - W', 'Interview with a Filippines Woman segment 65 - W', 'Avalinguo - Xoca and Josué segment 109 - J', 'Avalinguo - Xoca and Josué segment 59 - J', 'Avalinguo - Xoca and Josué segment 71 - J', 'Avalinguo - Xoca and Josué segment 65 - J', 'Elderly Chinese street cleaner speaks fluent English segment 18 - E', 'Elderly Chinese street cleaner speaks fluent English segment 30 - E', 'Elderly Chinese street cleaner speaks fluent English segment 24 - E']\n"
     ]
    }
   ],
   "source": [
    "print(list_of_files)"
   ]
  },
  {
   "cell_type": "code",
   "execution_count": 70,
   "metadata": {},
   "outputs": [
    {
     "name": "stdout",
     "output_type": "stream",
     "text": [
      "Error: unknown file type {extension}\n",
      "[Error] there was an error in feature extraction. zero-size array to reduction operation maximum which has no identity\n"
     ]
    },
    {
     "name": "stderr",
     "output_type": "stream",
     "text": [
      "/Users/ahmedewva/Desktop/School/3A/APC/code/pyAudioAnalysis/ShortTermFeatures.py:17: RuntimeWarning:\n",
      "\n",
      "Mean of empty slice.\n",
      "\n",
      "/Users/ahmedewva/opt/anaconda3/envs/xai/lib/python3.7/site-packages/numpy/core/_methods.py:189: RuntimeWarning:\n",
      "\n",
      "invalid value encountered in double_scalars\n",
      "\n"
     ]
    }
   ],
   "source": [
    "X, Y = [], []\n",
    "\n",
    "classes = [\"low\",\"intermediate\",\"high\"]\n",
    "\n",
    "for file in os.listdir(low):\n",
    "    try:\n",
    "        feature = get_aug_features(low+file)\n",
    "        X.append(feature)\n",
    "        # appending emotion 3 times as we have made 3 augmentation techniques on each audio file.\n",
    "        Y.append(\"low\")\n",
    "    except Exception as e:\n",
    "        print(\"[Error] there was an error in feature extraction. %s\" % (e))\n",
    "        continue\n",
    "\n",
    "\n",
    "for file in os.listdir(intermediate):\n",
    "    try:\n",
    "        feature = get_aug_features(intermediate+file)\n",
    "        X.append(feature)\n",
    "        # appending emotion 3 times as we have made 3 augmentation techniques on each audio file.\n",
    "        Y.append(\"intermediate\")\n",
    "    except Exception as e:\n",
    "        print(\"[Error] there was an error in feature extraction. %s\" % (e))\n",
    "        continue\n",
    "\n",
    "for file in os.listdir(high):\n",
    "    try:\n",
    "        feature = get_aug_features(high+file)\n",
    "        X.append(feature)\n",
    "        # appending emotion 3 times as we have made 3 augmentation techniques on each audio file.\n",
    "        Y.append(\"high\")\n",
    "    except Exception as e:\n",
    "        print(\"[Error] there was an error in feature extraction. %s\" % (e))\n",
    "        continue"
   ]
  },
  {
   "cell_type": "code",
   "execution_count": 74,
   "metadata": {},
   "outputs": [
    {
     "name": "stdout",
     "output_type": "stream",
     "text": [
      "(1424,)\n"
     ]
    }
   ],
   "source": [
    "print(np.array(Y).shape)"
   ]
  },
  {
   "cell_type": "code",
   "execution_count": 75,
   "metadata": {},
   "outputs": [
    {
     "data": {
      "text/html": [
       "<div>\n",
       "<style scoped>\n",
       "    .dataframe tbody tr th:only-of-type {\n",
       "        vertical-align: middle;\n",
       "    }\n",
       "\n",
       "    .dataframe tbody tr th {\n",
       "        vertical-align: top;\n",
       "    }\n",
       "\n",
       "    .dataframe thead th {\n",
       "        text-align: right;\n",
       "    }\n",
       "</style>\n",
       "<table border=\"1\" class=\"dataframe\">\n",
       "  <thead>\n",
       "    <tr style=\"text-align: right;\">\n",
       "      <th></th>\n",
       "      <th>0</th>\n",
       "      <th>1</th>\n",
       "      <th>2</th>\n",
       "      <th>3</th>\n",
       "      <th>4</th>\n",
       "      <th>5</th>\n",
       "      <th>6</th>\n",
       "      <th>7</th>\n",
       "      <th>8</th>\n",
       "      <th>9</th>\n",
       "      <th>...</th>\n",
       "      <th>141</th>\n",
       "      <th>142</th>\n",
       "      <th>143</th>\n",
       "      <th>144</th>\n",
       "      <th>145</th>\n",
       "      <th>146</th>\n",
       "      <th>147</th>\n",
       "      <th>148</th>\n",
       "      <th>149</th>\n",
       "      <th>labels</th>\n",
       "    </tr>\n",
       "  </thead>\n",
       "  <tbody>\n",
       "    <tr>\n",
       "      <th>0</th>\n",
       "      <td>0.053206</td>\n",
       "      <td>0.007045</td>\n",
       "      <td>3.004705</td>\n",
       "      <td>0.140346</td>\n",
       "      <td>0.178221</td>\n",
       "      <td>0.476237</td>\n",
       "      <td>0.009610</td>\n",
       "      <td>0.093883</td>\n",
       "      <td>-31.200013</td>\n",
       "      <td>2.193567</td>\n",
       "      <td>...</td>\n",
       "      <td>0.008224</td>\n",
       "      <td>0.008669</td>\n",
       "      <td>0.024672</td>\n",
       "      <td>0.115187</td>\n",
       "      <td>1.027144</td>\n",
       "      <td>0.046588</td>\n",
       "      <td>0.070801</td>\n",
       "      <td>0.145854</td>\n",
       "      <td>0.139764</td>\n",
       "      <td>low</td>\n",
       "    </tr>\n",
       "    <tr>\n",
       "      <th>1</th>\n",
       "      <td>0.050167</td>\n",
       "      <td>0.003563</td>\n",
       "      <td>3.019958</td>\n",
       "      <td>0.149085</td>\n",
       "      <td>0.187342</td>\n",
       "      <td>0.487404</td>\n",
       "      <td>0.005942</td>\n",
       "      <td>0.090217</td>\n",
       "      <td>-32.670208</td>\n",
       "      <td>1.871691</td>\n",
       "      <td>...</td>\n",
       "      <td>0.003729</td>\n",
       "      <td>0.003974</td>\n",
       "      <td>0.011186</td>\n",
       "      <td>0.091260</td>\n",
       "      <td>0.799435</td>\n",
       "      <td>0.030839</td>\n",
       "      <td>0.046953</td>\n",
       "      <td>0.104983</td>\n",
       "      <td>0.092518</td>\n",
       "      <td>low</td>\n",
       "    </tr>\n",
       "    <tr>\n",
       "      <th>2</th>\n",
       "      <td>0.049796</td>\n",
       "      <td>0.006729</td>\n",
       "      <td>2.950327</td>\n",
       "      <td>0.129346</td>\n",
       "      <td>0.176377</td>\n",
       "      <td>0.395560</td>\n",
       "      <td>0.009366</td>\n",
       "      <td>0.074483</td>\n",
       "      <td>-31.200523</td>\n",
       "      <td>2.474869</td>\n",
       "      <td>...</td>\n",
       "      <td>0.004962</td>\n",
       "      <td>0.006105</td>\n",
       "      <td>0.014887</td>\n",
       "      <td>0.145358</td>\n",
       "      <td>1.269955</td>\n",
       "      <td>0.045055</td>\n",
       "      <td>0.078931</td>\n",
       "      <td>0.187112</td>\n",
       "      <td>0.135166</td>\n",
       "      <td>low</td>\n",
       "    </tr>\n",
       "    <tr>\n",
       "      <th>3</th>\n",
       "      <td>0.051284</td>\n",
       "      <td>0.014177</td>\n",
       "      <td>3.056261</td>\n",
       "      <td>0.110161</td>\n",
       "      <td>0.148898</td>\n",
       "      <td>0.386496</td>\n",
       "      <td>0.010893</td>\n",
       "      <td>0.069542</td>\n",
       "      <td>-27.054889</td>\n",
       "      <td>2.143842</td>\n",
       "      <td>...</td>\n",
       "      <td>0.012481</td>\n",
       "      <td>0.014866</td>\n",
       "      <td>0.037442</td>\n",
       "      <td>0.167999</td>\n",
       "      <td>1.477966</td>\n",
       "      <td>0.079534</td>\n",
       "      <td>0.106513</td>\n",
       "      <td>0.183345</td>\n",
       "      <td>0.238601</td>\n",
       "      <td>low</td>\n",
       "    </tr>\n",
       "    <tr>\n",
       "      <th>4</th>\n",
       "      <td>0.056132</td>\n",
       "      <td>0.011475</td>\n",
       "      <td>3.083705</td>\n",
       "      <td>0.110317</td>\n",
       "      <td>0.146045</td>\n",
       "      <td>0.461578</td>\n",
       "      <td>0.006427</td>\n",
       "      <td>0.086550</td>\n",
       "      <td>-28.229155</td>\n",
       "      <td>1.678700</td>\n",
       "      <td>...</td>\n",
       "      <td>0.007202</td>\n",
       "      <td>0.008305</td>\n",
       "      <td>0.021607</td>\n",
       "      <td>0.118135</td>\n",
       "      <td>1.119456</td>\n",
       "      <td>0.047241</td>\n",
       "      <td>0.076031</td>\n",
       "      <td>0.137085</td>\n",
       "      <td>0.141724</td>\n",
       "      <td>low</td>\n",
       "    </tr>\n",
       "  </tbody>\n",
       "</table>\n",
       "<p>5 rows × 151 columns</p>\n",
       "</div>"
      ],
      "text/plain": [
       "          0         1         2         3         4         5         6  \\\n",
       "0  0.053206  0.007045  3.004705  0.140346  0.178221  0.476237  0.009610   \n",
       "1  0.050167  0.003563  3.019958  0.149085  0.187342  0.487404  0.005942   \n",
       "2  0.049796  0.006729  2.950327  0.129346  0.176377  0.395560  0.009366   \n",
       "3  0.051284  0.014177  3.056261  0.110161  0.148898  0.386496  0.010893   \n",
       "4  0.056132  0.011475  3.083705  0.110317  0.146045  0.461578  0.006427   \n",
       "\n",
       "          7          8         9  ...       141       142       143       144  \\\n",
       "0  0.093883 -31.200013  2.193567  ...  0.008224  0.008669  0.024672  0.115187   \n",
       "1  0.090217 -32.670208  1.871691  ...  0.003729  0.003974  0.011186  0.091260   \n",
       "2  0.074483 -31.200523  2.474869  ...  0.004962  0.006105  0.014887  0.145358   \n",
       "3  0.069542 -27.054889  2.143842  ...  0.012481  0.014866  0.037442  0.167999   \n",
       "4  0.086550 -28.229155  1.678700  ...  0.007202  0.008305  0.021607  0.118135   \n",
       "\n",
       "        145       146       147       148       149  labels  \n",
       "0  1.027144  0.046588  0.070801  0.145854  0.139764     low  \n",
       "1  0.799435  0.030839  0.046953  0.104983  0.092518     low  \n",
       "2  1.269955  0.045055  0.078931  0.187112  0.135166     low  \n",
       "3  1.477966  0.079534  0.106513  0.183345  0.238601     low  \n",
       "4  1.119456  0.047241  0.076031  0.137085  0.141724     low  \n",
       "\n",
       "[5 rows x 151 columns]"
      ]
     },
     "execution_count": 75,
     "metadata": {},
     "output_type": "execute_result"
    }
   ],
   "source": [
    "Features = pd.DataFrame(X)\n",
    "Features['labels'] = Y\n",
    "Features.to_csv('features_fluency.csv', index=False)\n",
    "Features.head()"
   ]
  }
 ],
 "metadata": {
  "kernelspec": {
   "display_name": "Python 3",
   "language": "python",
   "name": "python3"
  },
  "language_info": {
   "codemirror_mode": {
    "name": "ipython",
    "version": 3
   },
   "file_extension": ".py",
   "mimetype": "text/x-python",
   "name": "python",
   "nbconvert_exporter": "python",
   "pygments_lexer": "ipython3",
   "version": "3.7.11"
  }
 },
 "nbformat": 4,
 "nbformat_minor": 2
}

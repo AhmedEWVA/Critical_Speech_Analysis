{
 "cells": [
  {
   "cell_type": "markdown",
   "metadata": {},
   "source": [
    "# Clustering and Regression"
   ]
  },
  {
   "cell_type": "markdown",
   "metadata": {},
   "source": [
    "In this notebook two methods are tried but the obtained results were not promising.\n",
    "- First a regression based on score of the labels of the MIT dataset\n",
    "    - Regression methods that were used: SVM regressor, Gradient boosting regressor, Random forest regressor\n",
    "    - Each time the MSE loss were still significant and the plots show a huge discrepancy between the real and predicted values\n",
    "- Second a clustering based approach was used, the goal is to group bad interviews together and good interviews together\n",
    "    - To simplified the task only extreme data was used (score in the 25% upper and 25% lower percentile)\n",
    "    - Different clustering approached were used (kmeans, mean shift, nearest neighbours, gaussian mixtures and agglomerative clustering).\n",
    "    - The obtained results are also disppointing."
   ]
  },
  {
   "cell_type": "markdown",
   "metadata": {},
   "source": [
    "# Regression"
   ]
  },
  {
   "cell_type": "markdown",
   "metadata": {},
   "source": [
    "## Importing packages"
   ]
  },
  {
   "cell_type": "code",
   "execution_count": 1,
   "metadata": {},
   "outputs": [
    {
     "data": {
      "text/plain": [
       "'\\nimport torch\\nimport torch.nn as nn\\nimport torchvision\\nfrom torchvision import models,transforms,datasets\\nimport torch.nn.functional as F\\nimport torch.optim as optim\\nfrom torch.utils.data.sampler import SubsetRandomSampler\\nfrom torch.utils.data import Dataset, DataLoader'"
      ]
     },
     "execution_count": 1,
     "metadata": {},
     "output_type": "execute_result"
    }
   ],
   "source": [
    "import numpy as np\n",
    "import matplotlib.pyplot as plt\n",
    "import os\n",
    "import numpy as np # linear algebra\n",
    "import pandas as pd # data processing, CSV file I/O (e.g. pd.read_csv)\n",
    "import os\n",
    "from sklearn.preprocessing import StandardScaler\n",
    "from sklearn.model_selection import train_test_split\n",
    "from sklearn.ensemble import RandomForestRegressor\n",
    "from sklearn import datasets, ensemble\n",
    "from sklearn.metrics import mean_squared_error\n",
    "from sklearn.svm import SVR\n",
    "from sklearn.feature_selection import SelectKBest, chi2\n",
    "import math\n",
    "from sklearn.cluster import KMeans, SpectralClustering, AgglomerativeClustering, MeanShift\n",
    "from sklearn.mixture import GaussianMixture\n",
    "from sklearn.neighbors import NearestNeighbors, NearestCentroid\n",
    "\n",
    "\"\"\"\n",
    "import torch\n",
    "import torch.nn as nn\n",
    "import torchvision\n",
    "from torchvision import models,transforms,datasets\n",
    "import torch.nn.functional as F\n",
    "import torch.optim as optim\n",
    "from torch.utils.data.sampler import SubsetRandomSampler\n",
    "from torch.utils.data import Dataset, DataLoader\"\"\""
   ]
  },
  {
   "cell_type": "markdown",
   "metadata": {},
   "source": [
    "## Data processing"
   ]
  },
  {
   "cell_type": "code",
   "execution_count": 2,
   "metadata": {},
   "outputs": [],
   "source": [
    "my_dir = \"MIT_dataset_APC\""
   ]
  },
  {
   "cell_type": "code",
   "execution_count": 3,
   "metadata": {},
   "outputs": [],
   "source": [
    "labels_df_raw = pd.read_csv(my_dir+\"/Labels/turker_scores_full_interview.csv\")"
   ]
  },
  {
   "cell_type": "code",
   "execution_count": 4,
   "metadata": {},
   "outputs": [],
   "source": [
    "labels_audio = ['Engaged','Excited','SpeakingRate','NoFillers','Friendly','EngagingTone','Calm','NotStressed']\n"
   ]
  },
  {
   "cell_type": "code",
   "execution_count": 5,
   "metadata": {},
   "outputs": [],
   "source": [
    "target_label = 'NotStressed'"
   ]
  },
  {
   "cell_type": "code",
   "execution_count": 6,
   "metadata": {},
   "outputs": [],
   "source": [
    "dataset_df = pd.read_csv(my_dir+\"/audio_mit_data_correct\")"
   ]
  },
  {
   "cell_type": "code",
   "execution_count": 7,
   "metadata": {},
   "outputs": [
    {
     "data": {
      "text/html": [
       "<div>\n",
       "<style scoped>\n",
       "    .dataframe tbody tr th:only-of-type {\n",
       "        vertical-align: middle;\n",
       "    }\n",
       "\n",
       "    .dataframe tbody tr th {\n",
       "        vertical-align: top;\n",
       "    }\n",
       "\n",
       "    .dataframe thead th {\n",
       "        text-align: right;\n",
       "    }\n",
       "</style>\n",
       "<table border=\"1\" class=\"dataframe\">\n",
       "  <thead>\n",
       "    <tr style=\"text-align: right;\">\n",
       "      <th></th>\n",
       "      <th>Unnamed: 0</th>\n",
       "      <th>Unnamed: 0.1</th>\n",
       "      <th>zcr_mean</th>\n",
       "      <th>energy_mean</th>\n",
       "      <th>energy_entropy_mean</th>\n",
       "      <th>spectral_centroid_mean</th>\n",
       "      <th>spectral_spread_mean</th>\n",
       "      <th>spectral_entropy_mean</th>\n",
       "      <th>spectral_flux_mean</th>\n",
       "      <th>spectral_rolloff_mean</th>\n",
       "      <th>...</th>\n",
       "      <th>Participant</th>\n",
       "      <th>Overall</th>\n",
       "      <th>Engaged</th>\n",
       "      <th>Excited</th>\n",
       "      <th>SpeakingRate</th>\n",
       "      <th>NoFillers</th>\n",
       "      <th>Friendly</th>\n",
       "      <th>EngagingTone</th>\n",
       "      <th>Calm</th>\n",
       "      <th>NotStressed</th>\n",
       "    </tr>\n",
       "  </thead>\n",
       "  <tbody>\n",
       "    <tr>\n",
       "      <th>0</th>\n",
       "      <td>0</td>\n",
       "      <td>0</td>\n",
       "      <td>0.142087</td>\n",
       "      <td>0.015701</td>\n",
       "      <td>3.046386</td>\n",
       "      <td>0.231292</td>\n",
       "      <td>0.223929</td>\n",
       "      <td>1.059157</td>\n",
       "      <td>0.006849</td>\n",
       "      <td>0.224743</td>\n",
       "      <td>...</td>\n",
       "      <td>p4</td>\n",
       "      <td>4.494494</td>\n",
       "      <td>5.494494</td>\n",
       "      <td>4.261343</td>\n",
       "      <td>4.738</td>\n",
       "      <td>3.111445</td>\n",
       "      <td>5.369884</td>\n",
       "      <td>4.392736</td>\n",
       "      <td>5.06519</td>\n",
       "      <td>5.566084</td>\n",
       "    </tr>\n",
       "    <tr>\n",
       "      <th>1</th>\n",
       "      <td>1</td>\n",
       "      <td>1</td>\n",
       "      <td>0.087913</td>\n",
       "      <td>0.019020</td>\n",
       "      <td>3.120250</td>\n",
       "      <td>0.188848</td>\n",
       "      <td>0.224495</td>\n",
       "      <td>0.592691</td>\n",
       "      <td>0.006800</td>\n",
       "      <td>0.105566</td>\n",
       "      <td>...</td>\n",
       "      <td>p4</td>\n",
       "      <td>4.494494</td>\n",
       "      <td>5.494494</td>\n",
       "      <td>4.261343</td>\n",
       "      <td>4.738</td>\n",
       "      <td>3.111445</td>\n",
       "      <td>5.369884</td>\n",
       "      <td>4.392736</td>\n",
       "      <td>5.06519</td>\n",
       "      <td>5.566084</td>\n",
       "    </tr>\n",
       "    <tr>\n",
       "      <th>2</th>\n",
       "      <td>2</td>\n",
       "      <td>2</td>\n",
       "      <td>0.103410</td>\n",
       "      <td>0.012062</td>\n",
       "      <td>3.087032</td>\n",
       "      <td>0.190073</td>\n",
       "      <td>0.204567</td>\n",
       "      <td>0.825101</td>\n",
       "      <td>0.009216</td>\n",
       "      <td>0.160579</td>\n",
       "      <td>...</td>\n",
       "      <td>p4</td>\n",
       "      <td>4.494494</td>\n",
       "      <td>5.494494</td>\n",
       "      <td>4.261343</td>\n",
       "      <td>4.738</td>\n",
       "      <td>3.111445</td>\n",
       "      <td>5.369884</td>\n",
       "      <td>4.392736</td>\n",
       "      <td>5.06519</td>\n",
       "      <td>5.566084</td>\n",
       "    </tr>\n",
       "    <tr>\n",
       "      <th>3</th>\n",
       "      <td>3</td>\n",
       "      <td>3</td>\n",
       "      <td>0.091148</td>\n",
       "      <td>0.018467</td>\n",
       "      <td>3.034920</td>\n",
       "      <td>0.188826</td>\n",
       "      <td>0.221233</td>\n",
       "      <td>0.657817</td>\n",
       "      <td>0.008772</td>\n",
       "      <td>0.129651</td>\n",
       "      <td>...</td>\n",
       "      <td>p4</td>\n",
       "      <td>4.494494</td>\n",
       "      <td>5.494494</td>\n",
       "      <td>4.261343</td>\n",
       "      <td>4.738</td>\n",
       "      <td>3.111445</td>\n",
       "      <td>5.369884</td>\n",
       "      <td>4.392736</td>\n",
       "      <td>5.06519</td>\n",
       "      <td>5.566084</td>\n",
       "    </tr>\n",
       "    <tr>\n",
       "      <th>4</th>\n",
       "      <td>4</td>\n",
       "      <td>4</td>\n",
       "      <td>0.066190</td>\n",
       "      <td>0.028290</td>\n",
       "      <td>3.151099</td>\n",
       "      <td>0.171390</td>\n",
       "      <td>0.215667</td>\n",
       "      <td>0.499517</td>\n",
       "      <td>0.007204</td>\n",
       "      <td>0.089610</td>\n",
       "      <td>...</td>\n",
       "      <td>p4</td>\n",
       "      <td>4.494494</td>\n",
       "      <td>5.494494</td>\n",
       "      <td>4.261343</td>\n",
       "      <td>4.738</td>\n",
       "      <td>3.111445</td>\n",
       "      <td>5.369884</td>\n",
       "      <td>4.392736</td>\n",
       "      <td>5.06519</td>\n",
       "      <td>5.566084</td>\n",
       "    </tr>\n",
       "  </tbody>\n",
       "</table>\n",
       "<p>5 rows × 162 columns</p>\n",
       "</div>"
      ],
      "text/plain": [
       "   Unnamed: 0  Unnamed: 0.1  zcr_mean  energy_mean  energy_entropy_mean  \\\n",
       "0           0             0  0.142087     0.015701             3.046386   \n",
       "1           1             1  0.087913     0.019020             3.120250   \n",
       "2           2             2  0.103410     0.012062             3.087032   \n",
       "3           3             3  0.091148     0.018467             3.034920   \n",
       "4           4             4  0.066190     0.028290             3.151099   \n",
       "\n",
       "   spectral_centroid_mean  spectral_spread_mean  spectral_entropy_mean  \\\n",
       "0                0.231292              0.223929               1.059157   \n",
       "1                0.188848              0.224495               0.592691   \n",
       "2                0.190073              0.204567               0.825101   \n",
       "3                0.188826              0.221233               0.657817   \n",
       "4                0.171390              0.215667               0.499517   \n",
       "\n",
       "   spectral_flux_mean  spectral_rolloff_mean  ...  Participant   Overall  \\\n",
       "0            0.006849               0.224743  ...           p4  4.494494   \n",
       "1            0.006800               0.105566  ...           p4  4.494494   \n",
       "2            0.009216               0.160579  ...           p4  4.494494   \n",
       "3            0.008772               0.129651  ...           p4  4.494494   \n",
       "4            0.007204               0.089610  ...           p4  4.494494   \n",
       "\n",
       "    Engaged   Excited  SpeakingRate  NoFillers  Friendly  EngagingTone  \\\n",
       "0  5.494494  4.261343         4.738   3.111445  5.369884      4.392736   \n",
       "1  5.494494  4.261343         4.738   3.111445  5.369884      4.392736   \n",
       "2  5.494494  4.261343         4.738   3.111445  5.369884      4.392736   \n",
       "3  5.494494  4.261343         4.738   3.111445  5.369884      4.392736   \n",
       "4  5.494494  4.261343         4.738   3.111445  5.369884      4.392736   \n",
       "\n",
       "      Calm  NotStressed  \n",
       "0  5.06519     5.566084  \n",
       "1  5.06519     5.566084  \n",
       "2  5.06519     5.566084  \n",
       "3  5.06519     5.566084  \n",
       "4  5.06519     5.566084  \n",
       "\n",
       "[5 rows x 162 columns]"
      ]
     },
     "execution_count": 7,
     "metadata": {},
     "output_type": "execute_result"
    }
   ],
   "source": [
    "dataset_df.head()"
   ]
  },
  {
   "cell_type": "code",
   "execution_count": 8,
   "metadata": {},
   "outputs": [],
   "source": [
    "meaningful_cols = ['zcr_mean', 'energy_mean', 'energy_entropy_mean', 'spectral_centroid_mean', 'spectral_spread_mean', \n",
    "                   'spectral_entropy_mean', 'spectral_flux_mean', 'spectral_rolloff_mean', 'mfcc_1_mean', 'mfcc_2_mean', \n",
    "                   'mfcc_3_mean', 'mfcc_4_mean', 'mfcc_5_mean', 'mfcc_6_mean', 'mfcc_7_mean', 'mfcc_8_mean',\n",
    "                   'mfcc_9_mean', 'mfcc_10_mean', 'mfcc_11_mean', 'mfcc_12_mean', 'mfcc_13_mean', 'chroma_1_mean',\n",
    "                   'chroma_2_mean', 'chroma_3_mean', 'chroma_4_mean', 'chroma_5_mean', 'chroma_6_mean', 'chroma_7_mean', \n",
    "                   'chroma_8_mean', 'chroma_9_mean', 'chroma_10_mean', 'chroma_11_mean', 'chroma_12_mean',\n",
    "                   'chroma_std_mean', 'delta zcr_mean', 'delta energy_mean', 'delta energy_entropy_mean', \n",
    "                   'delta spectral_centroid_mean', 'delta spectral_spread_mean', 'delta spectral_entropy_mean',\n",
    "                   'delta spectral_flux_mean', 'delta spectral_rolloff_mean', 'delta mfcc_1_mean', 'delta mfcc_2_mean',\n",
    "                   'delta mfcc_3_mean', 'delta mfcc_4_mean', 'delta mfcc_5_mean', 'delta mfcc_6_mean',\n",
    "                   'delta mfcc_7_mean', 'delta mfcc_8_mean', 'delta mfcc_9_mean', 'delta mfcc_10_mean', \n",
    "                   'delta mfcc_11_mean', 'delta mfcc_12_mean', 'delta mfcc_13_mean', 'delta chroma_1_mean',\n",
    "                   'delta chroma_2_mean', 'delta chroma_3_mean', 'delta chroma_4_mean', 'delta chroma_5_mean', \n",
    "                   'delta chroma_6_mean', 'delta chroma_7_mean', 'delta chroma_8_mean', 'delta chroma_9_mean',\n",
    "                   'delta chroma_10_mean', 'delta chroma_11_mean', 'delta chroma_12_mean', 'delta chroma_std_mean',\n",
    "                   'zcr_std', 'energy_std', 'energy_entropy_std', 'spectral_centroid_std', 'spectral_spread_std', \n",
    "                   'spectral_entropy_std', 'spectral_flux_std', 'spectral_rolloff_std', 'mfcc_1_std', 'mfcc_2_std', \n",
    "                   'mfcc_3_std', 'mfcc_4_std', 'mfcc_5_std', 'mfcc_6_std', 'mfcc_7_std', 'mfcc_8_std', 'mfcc_9_std', \n",
    "                   'mfcc_10_std', 'mfcc_11_std', 'mfcc_12_std', 'mfcc_13_std', 'chroma_1_std', 'chroma_2_std', \n",
    "                   'chroma_3_std', 'chroma_4_std', 'chroma_5_std', 'chroma_6_std', 'chroma_7_std', 'chroma_8_std',\n",
    "                   'chroma_9_std', 'chroma_10_std', 'chroma_11_std', 'chroma_12_std', 'chroma_std_std',\n",
    "                   'delta zcr_std', 'delta energy_std', 'delta energy_entropy_std', 'delta spectral_centroid_std',\n",
    "                   'delta spectral_spread_std', 'delta spectral_entropy_std', 'delta spectral_flux_std',\n",
    "                   'delta spectral_rolloff_std', 'delta mfcc_1_std', 'delta mfcc_2_std', 'delta mfcc_3_std',\n",
    "                   'delta mfcc_4_std', 'delta mfcc_5_std', 'delta mfcc_6_std', 'delta mfcc_7_std', \n",
    "                   'delta mfcc_8_std', 'delta mfcc_9_std', 'delta mfcc_10_std', 'delta mfcc_11_std',\n",
    "                   'delta mfcc_12_std', 'delta mfcc_13_std', 'delta chroma_1_std', 'delta chroma_2_std', \n",
    "                   'delta chroma_3_std', 'delta chroma_4_std', 'delta chroma_5_std', 'delta chroma_6_std', \n",
    "                   'delta chroma_7_std', 'delta chroma_8_std', 'delta chroma_9_std', 'delta chroma_10_std', \n",
    "                   'delta chroma_11_std', 'delta chroma_12_std', 'delta chroma_std_std', 'meanF0Hz', 'stdevF0Hz', \n",
    "                   'HNR', 'localJitter', 'localabsoluteJitter', 'rapJitter', 'ppq5Jitter', 'ddpJitter',\n",
    "                   'localShimmer', 'localdbShimmer', 'apq3Shimmer', 'apq5Shimmer', 'apq11Shimmer', 'ddaShimmer',\n",
    "                   target_label]"
   ]
  },
  {
   "cell_type": "code",
   "execution_count": 9,
   "metadata": {},
   "outputs": [
    {
     "name": "stdout",
     "output_type": "stream",
     "text": [
      "['zcr_mean', 'energy_mean', 'energy_entropy_mean', 'spectral_centroid_mean', 'spectral_spread_mean', 'spectral_entropy_mean', 'spectral_flux_mean', 'spectral_rolloff_mean', 'mfcc_1_mean', 'mfcc_2_mean', 'mfcc_3_mean', 'mfcc_4_mean', 'mfcc_5_mean', 'mfcc_6_mean', 'mfcc_7_mean', 'mfcc_8_mean', 'mfcc_9_mean', 'mfcc_10_mean', 'mfcc_11_mean', 'mfcc_12_mean', 'mfcc_13_mean', 'chroma_1_mean', 'chroma_2_mean', 'chroma_3_mean', 'chroma_4_mean', 'chroma_5_mean', 'chroma_6_mean', 'chroma_7_mean', 'chroma_8_mean', 'chroma_9_mean', 'chroma_10_mean', 'chroma_11_mean', 'chroma_12_mean', 'chroma_std_mean', 'delta zcr_mean', 'delta energy_mean', 'delta energy_entropy_mean', 'delta spectral_centroid_mean', 'delta spectral_spread_mean', 'delta spectral_entropy_mean', 'delta spectral_flux_mean', 'delta spectral_rolloff_mean', 'delta mfcc_1_mean', 'delta mfcc_2_mean', 'delta mfcc_3_mean', 'delta mfcc_4_mean', 'delta mfcc_5_mean', 'delta mfcc_6_mean', 'delta mfcc_7_mean', 'delta mfcc_8_mean', 'delta mfcc_9_mean', 'delta mfcc_10_mean', 'delta mfcc_11_mean', 'delta mfcc_12_mean', 'delta mfcc_13_mean', 'delta chroma_1_mean', 'delta chroma_2_mean', 'delta chroma_3_mean', 'delta chroma_4_mean', 'delta chroma_5_mean', 'delta chroma_6_mean', 'delta chroma_7_mean', 'delta chroma_8_mean', 'delta chroma_9_mean', 'delta chroma_10_mean', 'delta chroma_11_mean', 'delta chroma_12_mean', 'delta chroma_std_mean', 'zcr_std', 'energy_std', 'energy_entropy_std', 'spectral_centroid_std', 'spectral_spread_std', 'spectral_entropy_std', 'spectral_flux_std', 'spectral_rolloff_std', 'mfcc_1_std', 'mfcc_2_std', 'mfcc_3_std', 'mfcc_4_std', 'mfcc_5_std', 'mfcc_6_std', 'mfcc_7_std', 'mfcc_8_std', 'mfcc_9_std', 'mfcc_10_std', 'mfcc_11_std', 'mfcc_12_std', 'mfcc_13_std', 'chroma_1_std', 'chroma_2_std', 'chroma_3_std', 'chroma_4_std', 'chroma_5_std', 'chroma_6_std', 'chroma_7_std', 'chroma_8_std', 'chroma_9_std', 'chroma_10_std', 'chroma_11_std', 'chroma_12_std', 'chroma_std_std', 'delta zcr_std', 'delta energy_std', 'delta energy_entropy_std', 'delta spectral_centroid_std', 'delta spectral_spread_std', 'delta spectral_entropy_std', 'delta spectral_flux_std', 'delta spectral_rolloff_std', 'delta mfcc_1_std', 'delta mfcc_2_std', 'delta mfcc_3_std', 'delta mfcc_4_std', 'delta mfcc_5_std', 'delta mfcc_6_std', 'delta mfcc_7_std', 'delta mfcc_8_std', 'delta mfcc_9_std', 'delta mfcc_10_std', 'delta mfcc_11_std', 'delta mfcc_12_std', 'delta mfcc_13_std', 'delta chroma_1_std', 'delta chroma_2_std', 'delta chroma_3_std', 'delta chroma_4_std', 'delta chroma_5_std', 'delta chroma_6_std', 'delta chroma_7_std', 'delta chroma_8_std', 'delta chroma_9_std', 'delta chroma_10_std', 'delta chroma_11_std', 'delta chroma_12_std', 'delta chroma_std_std', 'meanF0Hz', 'stdevF0Hz', 'HNR', 'localJitter', 'localabsoluteJitter', 'rapJitter', 'ppq5Jitter', 'ddpJitter', 'localShimmer', 'localdbShimmer', 'apq3Shimmer', 'apq5Shimmer', 'apq11Shimmer', 'ddaShimmer']\n"
     ]
    }
   ],
   "source": [
    "list_cols = dataset_df.columns\n",
    "print(list(list_cols[2:-10]))"
   ]
  },
  {
   "cell_type": "code",
   "execution_count": 10,
   "metadata": {},
   "outputs": [
    {
     "name": "stdout",
     "output_type": "stream",
     "text": [
      "162\n"
     ]
    }
   ],
   "source": [
    "print(len(list_cols))"
   ]
  },
  {
   "cell_type": "code",
   "execution_count": 11,
   "metadata": {},
   "outputs": [],
   "source": [
    "list_cols = list(list_cols[2:-10])\n",
    "list_cols.append(target_label)\n",
    "selected_columns = list_cols\n",
    "#print(selected_columns)"
   ]
  },
  {
   "cell_type": "code",
   "execution_count": 12,
   "metadata": {},
   "outputs": [],
   "source": [
    "x_df = dataset_df[meaningful_cols]"
   ]
  },
  {
   "cell_type": "code",
   "execution_count": 13,
   "metadata": {},
   "outputs": [
    {
     "data": {
      "text/plain": [
       "(22344, 151)"
      ]
     },
     "execution_count": 13,
     "metadata": {},
     "output_type": "execute_result"
    }
   ],
   "source": [
    "x_df.shape"
   ]
  },
  {
   "cell_type": "code",
   "execution_count": 14,
   "metadata": {},
   "outputs": [
    {
     "name": "stdout",
     "output_type": "stream",
     "text": [
      "Index(['zcr_mean', 'energy_mean', 'energy_entropy_mean',\n",
      "       'spectral_centroid_mean', 'spectral_spread_mean',\n",
      "       'spectral_entropy_mean', 'spectral_flux_mean', 'spectral_rolloff_mean',\n",
      "       'mfcc_1_mean', 'mfcc_2_mean',\n",
      "       ...\n",
      "       'rapJitter', 'ppq5Jitter', 'ddpJitter', 'localShimmer',\n",
      "       'localdbShimmer', 'apq3Shimmer', 'apq5Shimmer', 'apq11Shimmer',\n",
      "       'ddaShimmer', 'NotStressed'],\n",
      "      dtype='object', length=151)\n"
     ]
    }
   ],
   "source": [
    "print(x_df.columns)"
   ]
  },
  {
   "cell_type": "code",
   "execution_count": 15,
   "metadata": {},
   "outputs": [],
   "source": [
    "#x_df.describe()"
   ]
  },
  {
   "cell_type": "code",
   "execution_count": 16,
   "metadata": {},
   "outputs": [
    {
     "name": "stdout",
     "output_type": "stream",
     "text": [
      "14\n"
     ]
    }
   ],
   "source": [
    "columns_with_nan_values = []\n",
    "for clmn in x_df.columns:\n",
    "  num = len(x_df[clmn].values[x_df[clmn].isnull()])\n",
    "  if (num !=0):\n",
    "    columns_with_nan_values.append(clmn)\n",
    "print(len(columns_with_nan_values))"
   ]
  },
  {
   "cell_type": "code",
   "execution_count": 17,
   "metadata": {},
   "outputs": [
    {
     "name": "stderr",
     "output_type": "stream",
     "text": [
      "/Users/ahmedewva/opt/anaconda3/envs/xai/lib/python3.7/site-packages/ipykernel_launcher.py:1: SettingWithCopyWarning: \n",
      "A value is trying to be set on a copy of a slice from a DataFrame\n",
      "\n",
      "See the caveats in the documentation: http://pandas.pydata.org/pandas-docs/stable/user_guide/indexing.html#returning-a-view-versus-a-copy\n",
      "  \"\"\"Entry point for launching an IPython kernel.\n"
     ]
    }
   ],
   "source": [
    "x_df.dropna(subset = columns_with_nan_values, inplace=True)"
   ]
  },
  {
   "cell_type": "code",
   "execution_count": 18,
   "metadata": {},
   "outputs": [
    {
     "data": {
      "text/html": [
       "<div>\n",
       "<style scoped>\n",
       "    .dataframe tbody tr th:only-of-type {\n",
       "        vertical-align: middle;\n",
       "    }\n",
       "\n",
       "    .dataframe tbody tr th {\n",
       "        vertical-align: top;\n",
       "    }\n",
       "\n",
       "    .dataframe thead th {\n",
       "        text-align: right;\n",
       "    }\n",
       "</style>\n",
       "<table border=\"1\" class=\"dataframe\">\n",
       "  <thead>\n",
       "    <tr style=\"text-align: right;\">\n",
       "      <th></th>\n",
       "      <th>zcr_mean</th>\n",
       "      <th>energy_mean</th>\n",
       "      <th>energy_entropy_mean</th>\n",
       "      <th>spectral_centroid_mean</th>\n",
       "      <th>spectral_spread_mean</th>\n",
       "      <th>spectral_entropy_mean</th>\n",
       "      <th>spectral_flux_mean</th>\n",
       "      <th>spectral_rolloff_mean</th>\n",
       "      <th>mfcc_1_mean</th>\n",
       "      <th>mfcc_2_mean</th>\n",
       "      <th>...</th>\n",
       "      <th>rapJitter</th>\n",
       "      <th>ppq5Jitter</th>\n",
       "      <th>ddpJitter</th>\n",
       "      <th>localShimmer</th>\n",
       "      <th>localdbShimmer</th>\n",
       "      <th>apq3Shimmer</th>\n",
       "      <th>apq5Shimmer</th>\n",
       "      <th>apq11Shimmer</th>\n",
       "      <th>ddaShimmer</th>\n",
       "      <th>NotStressed</th>\n",
       "    </tr>\n",
       "  </thead>\n",
       "  <tbody>\n",
       "    <tr>\n",
       "      <th>1</th>\n",
       "      <td>0.087913</td>\n",
       "      <td>0.019020</td>\n",
       "      <td>3.120250</td>\n",
       "      <td>0.188848</td>\n",
       "      <td>0.224495</td>\n",
       "      <td>0.592691</td>\n",
       "      <td>0.006800</td>\n",
       "      <td>0.105566</td>\n",
       "      <td>-24.769166</td>\n",
       "      <td>2.399408</td>\n",
       "      <td>...</td>\n",
       "      <td>0.010623</td>\n",
       "      <td>0.011196</td>\n",
       "      <td>0.031870</td>\n",
       "      <td>0.175974</td>\n",
       "      <td>1.552526</td>\n",
       "      <td>0.077874</td>\n",
       "      <td>0.115512</td>\n",
       "      <td>0.197128</td>\n",
       "      <td>0.233621</td>\n",
       "      <td>5.566084</td>\n",
       "    </tr>\n",
       "    <tr>\n",
       "      <th>2</th>\n",
       "      <td>0.103410</td>\n",
       "      <td>0.012062</td>\n",
       "      <td>3.087032</td>\n",
       "      <td>0.190073</td>\n",
       "      <td>0.204567</td>\n",
       "      <td>0.825101</td>\n",
       "      <td>0.009216</td>\n",
       "      <td>0.160579</td>\n",
       "      <td>-25.428056</td>\n",
       "      <td>2.182121</td>\n",
       "      <td>...</td>\n",
       "      <td>0.006705</td>\n",
       "      <td>0.007249</td>\n",
       "      <td>0.020115</td>\n",
       "      <td>0.181709</td>\n",
       "      <td>1.523556</td>\n",
       "      <td>0.084271</td>\n",
       "      <td>0.129299</td>\n",
       "      <td>0.190310</td>\n",
       "      <td>0.252814</td>\n",
       "      <td>5.566084</td>\n",
       "    </tr>\n",
       "    <tr>\n",
       "      <th>3</th>\n",
       "      <td>0.091148</td>\n",
       "      <td>0.018467</td>\n",
       "      <td>3.034920</td>\n",
       "      <td>0.188826</td>\n",
       "      <td>0.221233</td>\n",
       "      <td>0.657817</td>\n",
       "      <td>0.008772</td>\n",
       "      <td>0.129651</td>\n",
       "      <td>-24.688089</td>\n",
       "      <td>2.340357</td>\n",
       "      <td>...</td>\n",
       "      <td>0.020790</td>\n",
       "      <td>0.021229</td>\n",
       "      <td>0.062370</td>\n",
       "      <td>0.208734</td>\n",
       "      <td>1.789219</td>\n",
       "      <td>0.108183</td>\n",
       "      <td>0.138046</td>\n",
       "      <td>0.110888</td>\n",
       "      <td>0.324549</td>\n",
       "      <td>5.566084</td>\n",
       "    </tr>\n",
       "    <tr>\n",
       "      <th>4</th>\n",
       "      <td>0.066190</td>\n",
       "      <td>0.028290</td>\n",
       "      <td>3.151099</td>\n",
       "      <td>0.171390</td>\n",
       "      <td>0.215667</td>\n",
       "      <td>0.499517</td>\n",
       "      <td>0.007204</td>\n",
       "      <td>0.089610</td>\n",
       "      <td>-24.409609</td>\n",
       "      <td>2.427913</td>\n",
       "      <td>...</td>\n",
       "      <td>0.009059</td>\n",
       "      <td>0.008628</td>\n",
       "      <td>0.027178</td>\n",
       "      <td>0.165879</td>\n",
       "      <td>1.606036</td>\n",
       "      <td>0.083539</td>\n",
       "      <td>0.090342</td>\n",
       "      <td>0.117668</td>\n",
       "      <td>0.250618</td>\n",
       "      <td>5.566084</td>\n",
       "    </tr>\n",
       "    <tr>\n",
       "      <th>6</th>\n",
       "      <td>0.111811</td>\n",
       "      <td>0.029945</td>\n",
       "      <td>3.054400</td>\n",
       "      <td>0.207635</td>\n",
       "      <td>0.216334</td>\n",
       "      <td>0.784833</td>\n",
       "      <td>0.008146</td>\n",
       "      <td>0.178350</td>\n",
       "      <td>-23.895809</td>\n",
       "      <td>2.290027</td>\n",
       "      <td>...</td>\n",
       "      <td>0.013007</td>\n",
       "      <td>0.012970</td>\n",
       "      <td>0.039022</td>\n",
       "      <td>0.189562</td>\n",
       "      <td>1.689502</td>\n",
       "      <td>0.099301</td>\n",
       "      <td>0.108843</td>\n",
       "      <td>0.141086</td>\n",
       "      <td>0.297903</td>\n",
       "      <td>5.566084</td>\n",
       "    </tr>\n",
       "    <tr>\n",
       "      <th>...</th>\n",
       "      <td>...</td>\n",
       "      <td>...</td>\n",
       "      <td>...</td>\n",
       "      <td>...</td>\n",
       "      <td>...</td>\n",
       "      <td>...</td>\n",
       "      <td>...</td>\n",
       "      <td>...</td>\n",
       "      <td>...</td>\n",
       "      <td>...</td>\n",
       "      <td>...</td>\n",
       "      <td>...</td>\n",
       "      <td>...</td>\n",
       "      <td>...</td>\n",
       "      <td>...</td>\n",
       "      <td>...</td>\n",
       "      <td>...</td>\n",
       "      <td>...</td>\n",
       "      <td>...</td>\n",
       "      <td>...</td>\n",
       "      <td>...</td>\n",
       "    </tr>\n",
       "    <tr>\n",
       "      <th>704</th>\n",
       "      <td>0.075348</td>\n",
       "      <td>0.022374</td>\n",
       "      <td>3.151738</td>\n",
       "      <td>0.184740</td>\n",
       "      <td>0.219224</td>\n",
       "      <td>0.510915</td>\n",
       "      <td>0.009059</td>\n",
       "      <td>0.110519</td>\n",
       "      <td>-24.758165</td>\n",
       "      <td>2.184079</td>\n",
       "      <td>...</td>\n",
       "      <td>0.011791</td>\n",
       "      <td>0.011800</td>\n",
       "      <td>0.035372</td>\n",
       "      <td>0.173493</td>\n",
       "      <td>1.600296</td>\n",
       "      <td>0.080761</td>\n",
       "      <td>0.107990</td>\n",
       "      <td>0.203845</td>\n",
       "      <td>0.242282</td>\n",
       "      <td>5.916373</td>\n",
       "    </tr>\n",
       "    <tr>\n",
       "      <th>705</th>\n",
       "      <td>0.082274</td>\n",
       "      <td>0.034221</td>\n",
       "      <td>3.090658</td>\n",
       "      <td>0.185043</td>\n",
       "      <td>0.215408</td>\n",
       "      <td>0.577165</td>\n",
       "      <td>0.010313</td>\n",
       "      <td>0.115434</td>\n",
       "      <td>-24.734029</td>\n",
       "      <td>2.161660</td>\n",
       "      <td>...</td>\n",
       "      <td>0.008975</td>\n",
       "      <td>0.010615</td>\n",
       "      <td>0.026924</td>\n",
       "      <td>0.168881</td>\n",
       "      <td>1.561658</td>\n",
       "      <td>0.076960</td>\n",
       "      <td>0.109381</td>\n",
       "      <td>0.171172</td>\n",
       "      <td>0.230881</td>\n",
       "      <td>5.916373</td>\n",
       "    </tr>\n",
       "    <tr>\n",
       "      <th>706</th>\n",
       "      <td>0.180158</td>\n",
       "      <td>0.037546</td>\n",
       "      <td>3.142509</td>\n",
       "      <td>0.274110</td>\n",
       "      <td>0.242520</td>\n",
       "      <td>0.833836</td>\n",
       "      <td>0.008600</td>\n",
       "      <td>0.261494</td>\n",
       "      <td>-24.212035</td>\n",
       "      <td>2.374659</td>\n",
       "      <td>...</td>\n",
       "      <td>0.008087</td>\n",
       "      <td>0.008818</td>\n",
       "      <td>0.024261</td>\n",
       "      <td>0.170630</td>\n",
       "      <td>1.446250</td>\n",
       "      <td>0.085757</td>\n",
       "      <td>0.106679</td>\n",
       "      <td>0.151929</td>\n",
       "      <td>0.257272</td>\n",
       "      <td>5.916373</td>\n",
       "    </tr>\n",
       "    <tr>\n",
       "      <th>707</th>\n",
       "      <td>0.124962</td>\n",
       "      <td>0.020255</td>\n",
       "      <td>3.149749</td>\n",
       "      <td>0.231993</td>\n",
       "      <td>0.216641</td>\n",
       "      <td>0.955861</td>\n",
       "      <td>0.023883</td>\n",
       "      <td>0.245047</td>\n",
       "      <td>-37.364562</td>\n",
       "      <td>1.606849</td>\n",
       "      <td>...</td>\n",
       "      <td>0.004074</td>\n",
       "      <td>0.005264</td>\n",
       "      <td>0.012223</td>\n",
       "      <td>0.125844</td>\n",
       "      <td>1.162346</td>\n",
       "      <td>0.057132</td>\n",
       "      <td>0.075692</td>\n",
       "      <td>0.116810</td>\n",
       "      <td>0.171397</td>\n",
       "      <td>5.916373</td>\n",
       "    </tr>\n",
       "    <tr>\n",
       "      <th>708</th>\n",
       "      <td>0.126930</td>\n",
       "      <td>0.027221</td>\n",
       "      <td>3.156391</td>\n",
       "      <td>0.226867</td>\n",
       "      <td>0.229971</td>\n",
       "      <td>0.690997</td>\n",
       "      <td>0.008914</td>\n",
       "      <td>0.192642</td>\n",
       "      <td>-24.389677</td>\n",
       "      <td>2.207260</td>\n",
       "      <td>...</td>\n",
       "      <td>0.010647</td>\n",
       "      <td>0.011219</td>\n",
       "      <td>0.031941</td>\n",
       "      <td>0.176809</td>\n",
       "      <td>1.469598</td>\n",
       "      <td>0.088407</td>\n",
       "      <td>0.117915</td>\n",
       "      <td>0.136186</td>\n",
       "      <td>0.265221</td>\n",
       "      <td>5.916373</td>\n",
       "    </tr>\n",
       "  </tbody>\n",
       "</table>\n",
       "<p>600 rows × 151 columns</p>\n",
       "</div>"
      ],
      "text/plain": [
       "     zcr_mean  energy_mean  energy_entropy_mean  spectral_centroid_mean  \\\n",
       "1    0.087913     0.019020             3.120250                0.188848   \n",
       "2    0.103410     0.012062             3.087032                0.190073   \n",
       "3    0.091148     0.018467             3.034920                0.188826   \n",
       "4    0.066190     0.028290             3.151099                0.171390   \n",
       "6    0.111811     0.029945             3.054400                0.207635   \n",
       "..        ...          ...                  ...                     ...   \n",
       "704  0.075348     0.022374             3.151738                0.184740   \n",
       "705  0.082274     0.034221             3.090658                0.185043   \n",
       "706  0.180158     0.037546             3.142509                0.274110   \n",
       "707  0.124962     0.020255             3.149749                0.231993   \n",
       "708  0.126930     0.027221             3.156391                0.226867   \n",
       "\n",
       "     spectral_spread_mean  spectral_entropy_mean  spectral_flux_mean  \\\n",
       "1                0.224495               0.592691            0.006800   \n",
       "2                0.204567               0.825101            0.009216   \n",
       "3                0.221233               0.657817            0.008772   \n",
       "4                0.215667               0.499517            0.007204   \n",
       "6                0.216334               0.784833            0.008146   \n",
       "..                    ...                    ...                 ...   \n",
       "704              0.219224               0.510915            0.009059   \n",
       "705              0.215408               0.577165            0.010313   \n",
       "706              0.242520               0.833836            0.008600   \n",
       "707              0.216641               0.955861            0.023883   \n",
       "708              0.229971               0.690997            0.008914   \n",
       "\n",
       "     spectral_rolloff_mean  mfcc_1_mean  mfcc_2_mean  ...  rapJitter  \\\n",
       "1                 0.105566   -24.769166     2.399408  ...   0.010623   \n",
       "2                 0.160579   -25.428056     2.182121  ...   0.006705   \n",
       "3                 0.129651   -24.688089     2.340357  ...   0.020790   \n",
       "4                 0.089610   -24.409609     2.427913  ...   0.009059   \n",
       "6                 0.178350   -23.895809     2.290027  ...   0.013007   \n",
       "..                     ...          ...          ...  ...        ...   \n",
       "704               0.110519   -24.758165     2.184079  ...   0.011791   \n",
       "705               0.115434   -24.734029     2.161660  ...   0.008975   \n",
       "706               0.261494   -24.212035     2.374659  ...   0.008087   \n",
       "707               0.245047   -37.364562     1.606849  ...   0.004074   \n",
       "708               0.192642   -24.389677     2.207260  ...   0.010647   \n",
       "\n",
       "     ppq5Jitter  ddpJitter  localShimmer  localdbShimmer  apq3Shimmer  \\\n",
       "1      0.011196   0.031870      0.175974        1.552526     0.077874   \n",
       "2      0.007249   0.020115      0.181709        1.523556     0.084271   \n",
       "3      0.021229   0.062370      0.208734        1.789219     0.108183   \n",
       "4      0.008628   0.027178      0.165879        1.606036     0.083539   \n",
       "6      0.012970   0.039022      0.189562        1.689502     0.099301   \n",
       "..          ...        ...           ...             ...          ...   \n",
       "704    0.011800   0.035372      0.173493        1.600296     0.080761   \n",
       "705    0.010615   0.026924      0.168881        1.561658     0.076960   \n",
       "706    0.008818   0.024261      0.170630        1.446250     0.085757   \n",
       "707    0.005264   0.012223      0.125844        1.162346     0.057132   \n",
       "708    0.011219   0.031941      0.176809        1.469598     0.088407   \n",
       "\n",
       "     apq5Shimmer  apq11Shimmer  ddaShimmer  NotStressed  \n",
       "1       0.115512      0.197128    0.233621     5.566084  \n",
       "2       0.129299      0.190310    0.252814     5.566084  \n",
       "3       0.138046      0.110888    0.324549     5.566084  \n",
       "4       0.090342      0.117668    0.250618     5.566084  \n",
       "6       0.108843      0.141086    0.297903     5.566084  \n",
       "..           ...           ...         ...          ...  \n",
       "704     0.107990      0.203845    0.242282     5.916373  \n",
       "705     0.109381      0.171172    0.230881     5.916373  \n",
       "706     0.106679      0.151929    0.257272     5.916373  \n",
       "707     0.075692      0.116810    0.171397     5.916373  \n",
       "708     0.117915      0.136186    0.265221     5.916373  \n",
       "\n",
       "[600 rows x 151 columns]"
      ]
     },
     "execution_count": 18,
     "metadata": {},
     "output_type": "execute_result"
    }
   ],
   "source": [
    "x_df.head(600)"
   ]
  },
  {
   "cell_type": "code",
   "execution_count": 19,
   "metadata": {},
   "outputs": [
    {
     "name": "stderr",
     "output_type": "stream",
     "text": [
      "/Users/ahmedewva/opt/anaconda3/envs/xai/lib/python3.7/site-packages/pandas/core/frame.py:4117: SettingWithCopyWarning: \n",
      "A value is trying to be set on a copy of a slice from a DataFrame\n",
      "\n",
      "See the caveats in the documentation: http://pandas.pydata.org/pandas-docs/stable/user_guide/indexing.html#returning-a-view-versus-a-copy\n",
      "  errors=errors,\n"
     ]
    }
   ],
   "source": [
    "y_df = x_df[target_label]\n",
    "x_df.drop(columns=target_label, inplace=True)"
   ]
  },
  {
   "cell_type": "code",
   "execution_count": null,
   "metadata": {},
   "outputs": [],
   "source": []
  },
  {
   "cell_type": "code",
   "execution_count": null,
   "metadata": {},
   "outputs": [],
   "source": []
  },
  {
   "cell_type": "code",
   "execution_count": 20,
   "metadata": {},
   "outputs": [],
   "source": [
    "X_train_before_sc, X_test_before_sc, y_train, y_test = train_test_split(x_df.values, y_df.values, test_size=0.15, random_state=42)\n",
    "X_train_before_sc, X_validation_before_sc, y_train, y_validation = train_test_split(X_train_before_sc, y_train, test_size=0.25, random_state=42)\n",
    "\n",
    "scaler = StandardScaler()\n",
    "#X_train_before_sc = X_train_before_sc.astype(float)\n",
    "scaler.fit(X_train_before_sc)\n",
    "X_train = scaler.transform(X_train_before_sc)\n",
    "X_validation = scaler.transform(X_validation_before_sc)\n",
    "X_test = scaler.transform(X_test_before_sc)"
   ]
  },
  {
   "cell_type": "markdown",
   "metadata": {},
   "source": [
    "## Support vector machine regressor"
   ]
  },
  {
   "cell_type": "code",
   "execution_count": 21,
   "metadata": {},
   "outputs": [
    {
     "data": {
      "text/plain": [
       "SVR()"
      ]
     },
     "execution_count": 21,
     "metadata": {},
     "output_type": "execute_result"
    }
   ],
   "source": [
    "reg_svr = SVR(kernel='rbf')\n",
    "reg_svr.fit(X_train,y_train)"
   ]
  },
  {
   "cell_type": "code",
   "execution_count": 22,
   "metadata": {},
   "outputs": [
    {
     "data": {
      "text/plain": [
       "0.49457618098257794"
      ]
     },
     "execution_count": 22,
     "metadata": {},
     "output_type": "execute_result"
    }
   ],
   "source": [
    "reg_svr.score(X_train, y_train, sample_weight=None)"
   ]
  },
  {
   "cell_type": "code",
   "execution_count": 23,
   "metadata": {},
   "outputs": [
    {
     "data": {
      "text/plain": [
       "0.12667902827922062"
      ]
     },
     "execution_count": 23,
     "metadata": {},
     "output_type": "execute_result"
    }
   ],
   "source": [
    "reg_svr.score(X_test, y_test)"
   ]
  },
  {
   "cell_type": "code",
   "execution_count": 25,
   "metadata": {},
   "outputs": [],
   "source": [
    "y_pred_svr = reg_svr.predict(X_train)"
   ]
  },
  {
   "cell_type": "code",
   "execution_count": 26,
   "metadata": {},
   "outputs": [
    {
     "data": {
      "image/png": "[encoded data removed]",
      "text/plain": [
       "<Figure size 432x288 with 1 Axes>"
      ]
     },
     "metadata": {
      "needs_background": "light"
     },
     "output_type": "display_data"
    }
   ],
   "source": [
    "n = 100\n",
    "pred = np.zeros(n)\n",
    "real = np.zeros(n)\n",
    "diff = np.zeros(n)\n",
    "\n",
    "for i in range (n):\n",
    "  pred[i] = y_pred_svr[i]\n",
    "  real[i] = y_train[i]\n",
    "  diff[i] = np.abs(real[i]-pred[i])\n",
    "\n",
    "\n",
    "plt.plot(pred,'r')\n",
    "plt.plot(real)\n",
    "plt.show()"
   ]
  },
  {
   "cell_type": "markdown",
   "metadata": {},
   "source": [
    "## Gradient boosting regressor"
   ]
  },
  {
   "cell_type": "code",
   "execution_count": 27,
   "metadata": {},
   "outputs": [],
   "source": [
    "params = {\n",
    "    \"n_estimators\": 500,\n",
    "    \"max_depth\": 4,\n",
    "    \"min_samples_split\": 5,\n",
    "    \"learning_rate\": 0.01,\n",
    "}"
   ]
  },
  {
   "cell_type": "code",
   "execution_count": 28,
   "metadata": {},
   "outputs": [
    {
     "data": {
      "text/plain": [
       "GradientBoostingRegressor(learning_rate=0.01, max_depth=4, min_samples_split=5,\n",
       "                          n_estimators=500)"
      ]
     },
     "execution_count": 28,
     "metadata": {},
     "output_type": "execute_result"
    }
   ],
   "source": [
    "reg_gb = ensemble.GradientBoostingRegressor(**params)\n",
    "reg_gb.fit(X_train, y_train)\n",
    "\n"
   ]
  },
  {
   "cell_type": "code",
   "execution_count": 29,
   "metadata": {},
   "outputs": [
    {
     "name": "stdout",
     "output_type": "stream",
     "text": [
      "The mean squared error (MSE) on test set: 0.2222\n"
     ]
    }
   ],
   "source": [
    "mse = mean_squared_error(y_test, reg_gb.predict(X_test))\n",
    "print(\"The mean squared error (MSE) on test set: {:.4f}\".format(mse))"
   ]
  },
  {
   "cell_type": "code",
   "execution_count": 30,
   "metadata": {},
   "outputs": [],
   "source": [
    "gb_score_train = reg_gb.score(X_train, y_train)\n",
    "gb_score_test = reg_gb.score(X_train, y_train)\n",
    "y_pred_gb = reg_gb.predict(X_train)"
   ]
  },
  {
   "cell_type": "code",
   "execution_count": 31,
   "metadata": {},
   "outputs": [
    {
     "name": "stdout",
     "output_type": "stream",
     "text": [
      "0.18911165215850378\n",
      "0.18911165215850378\n"
     ]
    }
   ],
   "source": [
    "print(gb_score_train)\n",
    "print(gb_score_test)"
   ]
  },
  {
   "cell_type": "code",
   "execution_count": 32,
   "metadata": {},
   "outputs": [
    {
     "data": {
      "image/png": "[encoded data removed]",
      "text/plain": [
       "<Figure size 432x432 with 1 Axes>"
      ]
     },
     "metadata": {
      "needs_background": "light"
     },
     "output_type": "display_data"
    }
   ],
   "source": [
    "test_score = np.zeros((params[\"n_estimators\"],), dtype=np.float64)\n",
    "for i, y_pred in enumerate(reg_gb.staged_predict(X_test)):\n",
    "    test_score[i] = reg_gb.loss_(y_test, y_pred)\n",
    "\n",
    "fig = plt.figure(figsize=(6, 6))\n",
    "plt.subplot(1, 1, 1)\n",
    "plt.title(\"Deviance\")\n",
    "plt.plot(\n",
    "    np.arange(params[\"n_estimators\"]) + 1,\n",
    "    reg_gb.train_score_,\n",
    "    \"b-\",\n",
    "    label=\"Training Set Deviance\",\n",
    ")\n",
    "plt.plot(\n",
    "    np.arange(params[\"n_estimators\"]) + 1, test_score, \"r-\", label=\"Test Set Deviance\"\n",
    ")\n",
    "plt.legend(loc=\"upper right\")\n",
    "plt.xlabel(\"Boosting Iterations\")\n",
    "plt.ylabel(\"Deviance\")\n",
    "fig.tight_layout()\n",
    "plt.show()"
   ]
  },
  {
   "cell_type": "code",
   "execution_count": 33,
   "metadata": {},
   "outputs": [
    {
     "data": {
      "image/png": "[encoded data removed]",
      "text/plain": [
       "<Figure size 432x288 with 1 Axes>"
      ]
     },
     "metadata": {
      "needs_background": "light"
     },
     "output_type": "display_data"
    }
   ],
   "source": [
    "n = 100\n",
    "pred = np.zeros(n)\n",
    "real = np.zeros(n)\n",
    "diff = np.zeros(n)\n",
    "\n",
    "for i in range (n):\n",
    "  pred[i] = y_pred_gb[i]\n",
    "  real[i] = y_train[i]\n",
    "  diff[i] = np.abs(real[i]-pred[i])\n",
    "\n",
    "\n",
    "plt.plot(pred,'r')\n",
    "plt.plot(real)\n",
    "plt.show()"
   ]
  },
  {
   "cell_type": "code",
   "execution_count": null,
   "metadata": {},
   "outputs": [],
   "source": []
  },
  {
   "cell_type": "code",
   "execution_count": null,
   "metadata": {},
   "outputs": [],
   "source": []
  },
  {
   "cell_type": "code",
   "execution_count": null,
   "metadata": {},
   "outputs": [],
   "source": []
  },
  {
   "cell_type": "markdown",
   "metadata": {},
   "source": [
    "## Random Forest regressor"
   ]
  },
  {
   "cell_type": "code",
   "execution_count": 34,
   "metadata": {},
   "outputs": [],
   "source": [
    "reg_rf = RandomForestRegressor(max_depth=2, random_state=0)"
   ]
  },
  {
   "cell_type": "code",
   "execution_count": 35,
   "metadata": {},
   "outputs": [
    {
     "data": {
      "text/plain": [
       "RandomForestRegressor(max_depth=2, random_state=0)"
      ]
     },
     "execution_count": 35,
     "metadata": {},
     "output_type": "execute_result"
    }
   ],
   "source": [
    "reg_rf.fit(X_train, y_train)"
   ]
  },
  {
   "cell_type": "code",
   "execution_count": 36,
   "metadata": {},
   "outputs": [],
   "source": [
    "rf_score_train = reg_rf.score(X_train, y_train)\n",
    "rf_score_test = reg_rf.score(X_train, y_train)"
   ]
  },
  {
   "cell_type": "code",
   "execution_count": 39,
   "metadata": {},
   "outputs": [
    {
     "name": "stdout",
     "output_type": "stream",
     "text": [
      "The mean squared error (MSE) on test set: 0.3438\n"
     ]
    }
   ],
   "source": [
    "mse = mean_squared_error(y_test, reg_rf.predict(X_test))\n",
    "print(\"The mean squared error (MSE) on test set: {:.4f}\".format(mse))\n",
    "\n"
   ]
  },
  {
   "cell_type": "code",
   "execution_count": 40,
   "metadata": {},
   "outputs": [],
   "source": [
    "y_pred_rf = reg_rf.predict(X_test)"
   ]
  },
  {
   "cell_type": "code",
   "execution_count": 41,
   "metadata": {},
   "outputs": [
    {
     "data": {
      "image/png": "[encoded data removed]",
      "text/plain": [
       "<Figure size 432x288 with 1 Axes>"
      ]
     },
     "metadata": {
      "needs_background": "light"
     },
     "output_type": "display_data"
    }
   ],
   "source": [
    "n = 100\n",
    "pred = np.zeros(n)\n",
    "real = np.zeros(n)\n",
    "diff = np.zeros(n)\n",
    "\n",
    "for i in range (n):\n",
    "  pred[i] = y_pred_rf[i]\n",
    "  real[i] = y_test[i]\n",
    "  diff[i] = np.abs(real[i]-pred[i])\n",
    "\n",
    "\n",
    "plt.plot(pred,'r')\n",
    "plt.plot(real)\n",
    "plt.show()"
   ]
  },
  {
   "cell_type": "code",
   "execution_count": null,
   "metadata": {},
   "outputs": [],
   "source": []
  },
  {
   "cell_type": "markdown",
   "metadata": {},
   "source": [
    "# Clustering"
   ]
  },
  {
   "cell_type": "code",
   "execution_count": 96,
   "metadata": {},
   "outputs": [],
   "source": [
    "X_values = x_df.values\n",
    "Y_values = y_df.values"
   ]
  },
  {
   "cell_type": "code",
   "execution_count": 97,
   "metadata": {},
   "outputs": [],
   "source": [
    "def getting_indexes (index_quality):\n",
    "    index_arr = index_quality.values\n",
    "    l=[]\n",
    "    n = len(index_arr)\n",
    "    for i in range(n):\n",
    "        if index_arr[i] == True :\n",
    "            l.append(i)\n",
    "    return np.array(l)"
   ]
  },
  {
   "cell_type": "code",
   "execution_count": 98,
   "metadata": {},
   "outputs": [],
   "source": [
    "index_good_interviews = y_df.rank(pct=True) > 0.75\n",
    "index_bad_interviews = y_df.rank(pct=True) <= 0.25"
   ]
  },
  {
   "cell_type": "code",
   "execution_count": 99,
   "metadata": {},
   "outputs": [
    {
     "data": {
      "text/plain": [
       "0.25146169854325634"
      ]
     },
     "execution_count": 99,
     "metadata": {},
     "output_type": "execute_result"
    }
   ],
   "source": [
    "len(getting_indexes(index_bad_interviews))/len(Y_values)"
   ]
  },
  {
   "cell_type": "code",
   "execution_count": 100,
   "metadata": {},
   "outputs": [],
   "source": [
    "a = len(y_df[index_good_interviews].values)\n",
    "b = len(getting_indexes(index_bad_interviews))\n",
    "\n",
    "\n",
    "values_clustering = np.concatenate((y_df[index_good_interviews].values,y_df[index_bad_interviews].values),axis=0)\n",
    "indexes = np.concatenate((getting_indexes(index_good_interviews),getting_indexes(index_bad_interviews)))\n",
    "#print(indexes)\n",
    "#print(len(indexes)/len(Y_values))\n",
    "\n",
    "tmp = max(y_df[index_bad_interviews].values)\n",
    "\n",
    "real_labels = np.concatenate((np.ones(a),np.zeros(b)),axis=0)\n",
    "\n",
    "\n",
    "\n",
    "selected_x_values_for_clustering = np.concatenate((x_df[index_good_interviews].values,x_df[index_bad_interviews].values),axis=0)\n",
    "#print(len(selected_x_values_for_clustering)/len(Y_values))"
   ]
  },
  {
   "cell_type": "code",
   "execution_count": 101,
   "metadata": {},
   "outputs": [
    {
     "name": "stdout",
     "output_type": "stream",
     "text": [
      "1\n"
     ]
    }
   ],
   "source": [
    "kmeans = KMeans(n_clusters=2, random_state=3).fit(selected_x_values_for_clustering)\n",
    "print(1)\n",
    "ms = MeanShift(bandwidth=2).fit(selected_x_values_for_clustering)"
   ]
  },
  {
   "cell_type": "code",
   "execution_count": 26,
   "metadata": {},
   "outputs": [],
   "source": [
    "gm = GaussianMixture(n_components=2, random_state=0).fit(selected_x_values_for_clustering)"
   ]
  },
  {
   "cell_type": "code",
   "execution_count": null,
   "metadata": {},
   "outputs": [],
   "source": [
    "sp = SpectralClustering(n_clusters=2, assign_labels='discretize', random_state=3).fit(selected_x_values_for_clustering)\n",
    "print(2)"
   ]
  },
  {
   "cell_type": "code",
   "execution_count": 28,
   "metadata": {},
   "outputs": [
    {
     "name": "stdout",
     "output_type": "stream",
     "text": [
      "3\n"
     ]
    }
   ],
   "source": [
    "nbrs = NearestNeighbors(n_neighbors=2, algorithm='ball_tree').fit(selected_x_values_for_clustering)\n",
    "print(3)\n"
   ]
  },
  {
   "cell_type": "code",
   "execution_count": null,
   "metadata": {},
   "outputs": [],
   "source": [
    "agg = AgglomerativeClustering().fit(selected_x_values_for_clustering)\n",
    "print(5)"
   ]
  },
  {
   "cell_type": "code",
   "execution_count": null,
   "metadata": {},
   "outputs": [],
   "source": []
  },
  {
   "cell_type": "code",
   "execution_count": 59,
   "metadata": {},
   "outputs": [],
   "source": []
  },
  {
   "cell_type": "code",
   "execution_count": 102,
   "metadata": {},
   "outputs": [],
   "source": [
    "y_pred_kmeans = kmeans.labels_\n",
    "#y_pred_ms = ms.labels_\n",
    "#y_pred_gm = gm.predict(selected_x_values_for_clustering)\n",
    "#y_pred_nbrs = nbrs.predict(selected_x_values_for_clustering)\n",
    "#y_pred_agg = agg.labels_\n",
    "\n",
    "#y_pred = ms_clustering.predict(selected_x_values_for_clustering)"
   ]
  },
  {
   "cell_type": "code",
   "execution_count": 103,
   "metadata": {},
   "outputs": [
    {
     "name": "stdout",
     "output_type": "stream",
     "text": [
      "3028\n"
     ]
    }
   ],
   "source": [
    "print(len(y_pred))"
   ]
  },
  {
   "cell_type": "code",
   "execution_count": 104,
   "metadata": {},
   "outputs": [],
   "source": [
    "acc = sum(y_pred_kmeans==real_labels)"
   ]
  },
  {
   "cell_type": "code",
   "execution_count": 105,
   "metadata": {},
   "outputs": [
    {
     "name": "stdout",
     "output_type": "stream",
     "text": [
      "correlation coefficient with kmeans:   [[1.        0.1463533]\n",
      " [0.1463533 1.       ]]\n"
     ]
    }
   ],
   "source": [
    "R_kmeans = np.corrcoef(y_pred_kmeans, real_labels)\n",
    "#R_ms = np.corrcoef(y_pred_ms, real_labels)\n",
    "#R_gm = np.corrcoef(y_pred_gm, real_labels)\n",
    "#R_nbrs = np.corrcoef(y_pred_nbrs, real_labels)\n",
    "#R_agg = np.corrcoef(y_pred_agg, real_labels)\n",
    "\n",
    "\n",
    "print( \"correlation coefficient with kmeans:  \", R_kmeans)\n",
    "#print( \"correlation coefficient with mean shift:  \", R_ms)\n",
    "#print( \"correlation coefficient with gaussian mixture:  \", R_gm)\n",
    "#print( \"correlation coefficient with nearest neighbors:  \", R_nbrs)\n",
    "#print( \"correlation coefficient with agglomerative clustering:  \", R_agg)"
   ]
  },
  {
   "cell_type": "code",
   "execution_count": 106,
   "metadata": {},
   "outputs": [
    {
     "name": "stdout",
     "output_type": "stream",
     "text": [
      "0.572239624119029\n",
      "[[1.        0.1463533]\n",
      " [0.1463533 1.       ]]\n"
     ]
    }
   ],
   "source": [
    "print(acc/len(y_pred_kmeans))\n",
    "R1 = np.corrcoef(y_pred_kmeans, real_labels)\n",
    "print(R1)\n"
   ]
  },
  {
   "cell_type": "code",
   "execution_count": 107,
   "metadata": {},
   "outputs": [
    {
     "data": {
      "image/png": "[encoded data removed]",
      "text/plain": [
       "<Figure size 432x288 with 1 Axes>"
      ]
     },
     "metadata": {
      "needs_background": "light"
     },
     "output_type": "display_data"
    }
   ],
   "source": [
    "n = 10000\n",
    "plt.plot(y_pred_ms[n:n+50], 'r')\n",
    "plt.plot(real_labels[n:n+50])\n",
    "plt.show()"
   ]
  },
  {
   "cell_type": "code",
   "execution_count": 48,
   "metadata": {},
   "outputs": [],
   "source": [
    "def good_bad_transform(y):\n",
    "    m = np.mean(y)\n",
    "    n = len(y)\n",
    "    l = np.zeros(n)\n",
    "    for i in range(n):\n",
    "        if (y[i]>=m):\n",
    "            l[i] = 1\n",
    "    return l"
   ]
  },
  {
   "cell_type": "code",
   "execution_count": 49,
   "metadata": {},
   "outputs": [],
   "source": [
    "y_good_bad = good_bad_transform(Y_values)"
   ]
  },
  {
   "cell_type": "code",
   "execution_count": 62,
   "metadata": {},
   "outputs": [],
   "source": [
    "Y_total_pred = ms.predict(selected_x_values_for_clustering)"
   ]
  },
  {
   "cell_type": "code",
   "execution_count": 63,
   "metadata": {},
   "outputs": [
    {
     "data": {
      "text/plain": [
       "array([ 178,  251,  212, ..., 2927, 3002, 2741])"
      ]
     },
     "execution_count": 63,
     "metadata": {},
     "output_type": "execute_result"
    }
   ],
   "source": [
    "Y_total_pred"
   ]
  },
  {
   "cell_type": "code",
   "execution_count": 61,
   "metadata": {},
   "outputs": [
    {
     "data": {
      "text/plain": [
       "array([[ 1.13325008e-01,  1.76869344e-02,  3.10402328e+00,\n",
       "         2.22891866e-01,  2.32063115e-01,  7.95691413e-01,\n",
       "         8.08237235e-03,  1.86970659e-01, -2.54608040e+01,\n",
       "         2.36720718e+00,  3.89088380e-02, -3.02567712e-01,\n",
       "        -5.61525413e-01,  2.28588798e-02,  1.67696034e-02,\n",
       "        -8.49622467e-02, -3.78918367e-01,  2.21778789e-04,\n",
       "        -3.75415222e-01, -6.61561470e-02, -1.91652245e-01,\n",
       "         2.26857859e-02,  5.36150243e-03,  6.61359063e-02,\n",
       "         2.27693944e-02,  1.64876604e-02,  1.60973374e-02,\n",
       "         2.06054344e-02,  6.79075530e-03,  1.02732605e-02,\n",
       "         7.46009619e-03,  8.21032783e-03,  2.86442001e-03,\n",
       "         2.54806625e-02,  4.91976991e-04,  3.70127231e-04,\n",
       "        -1.58051260e-03,  4.53018976e-04,  7.83441931e-05,\n",
       "         6.70675535e-03,  1.92762714e-04,  9.83061101e-04,\n",
       "         7.33591251e-02, -1.68199089e-02, -4.32266644e-02,\n",
       "        -1.09503551e-03, -9.58220947e-03, -8.85099615e-05,\n",
       "         1.18509427e-02,  3.18738710e-03,  8.46084160e-03,\n",
       "        -1.78537527e-04,  1.76440847e-02, -8.57709154e-04,\n",
       "         1.34042315e-02, -9.55813668e-04, -6.31626709e-05,\n",
       "        -2.94598627e-03,  2.31239674e-04, -5.22215375e-05,\n",
       "        -2.02762916e-04,  1.64670195e-04,  6.73286079e-05,\n",
       "         3.11337686e-04,  1.36995897e-04, -7.17348878e-05,\n",
       "        -7.76622248e-06, -7.36350233e-04,  9.30675022e-02,\n",
       "         2.07934148e-02,  2.12969377e-01,  1.10111519e-01,\n",
       "         4.99108189e-02,  6.51611951e-01,  4.83675055e-03,\n",
       "         2.40297592e-01,  2.27622769e+00,  5.12116289e-01,\n",
       "         8.26090889e-01,  4.03603338e-01,  3.28117541e-01,\n",
       "         4.19800151e-01,  3.18388013e-01,  4.21372009e-01,\n",
       "         2.90086631e-01,  2.54543694e-01,  2.92061298e-01,\n",
       "         2.79064411e-01,  2.52668080e-01,  2.26462083e-02,\n",
       "         6.91645378e-03,  6.09919111e-02,  3.19271524e-02,\n",
       "         2.33777639e-02,  2.93273029e-02,  2.01848992e-02,\n",
       "         1.28380612e-02,  1.02630880e-02,  9.13407839e-03,\n",
       "         8.72571027e-03,  4.22423718e-03,  1.47799312e-02,\n",
       "         9.77528494e-02,  1.88080332e-02,  3.17123735e-01,\n",
       "         9.62254559e-02,  3.98297111e-02,  6.52528015e-01,\n",
       "         6.26736046e-03,  2.36924073e-01,  1.35668504e+00,\n",
       "         4.60701263e-01,  5.73018928e-01,  3.67301887e-01,\n",
       "         3.13549425e-01,  3.66908245e-01,  2.96130820e-01,\n",
       "         2.97489939e-01,  2.80269863e-01,  2.74073053e-01,\n",
       "         2.69681986e-01,  2.34968539e-01,  2.54899021e-01,\n",
       "         2.57969357e-02,  9.78571807e-03,  5.46825277e-02,\n",
       "         3.88344301e-02,  2.60376804e-02,  2.08019280e-02,\n",
       "         2.25831600e-02,  1.12564196e-02,  1.09671200e-02,\n",
       "         1.05040301e-02,  1.14143390e-02,  4.76629976e-03,\n",
       "         1.68422054e-02,  2.73312325e+02,  7.63530451e+01,\n",
       "         6.42357359e+00,  2.13359410e-02,  7.76780649e-05,\n",
       "         1.04619176e-02,  1.26373614e-02,  3.13857527e-02,\n",
       "         1.74862826e-01,  1.58042995e+00,  7.72225172e-02,\n",
       "         9.24825485e-02,  1.66300641e-01,  2.31667551e-01]])"
      ]
     },
     "execution_count": 61,
     "metadata": {},
     "output_type": "execute_result"
    }
   ],
   "source": [
    "X_values[0].reshape(1,-1)"
   ]
  },
  {
   "cell_type": "code",
   "execution_count": 64,
   "metadata": {},
   "outputs": [
    {
     "name": "stdout",
     "output_type": "stream",
     "text": [
      "[ 178  251  212 ... 2927 3002 2741]\n"
     ]
    }
   ],
   "source": [
    "print(y_pred_ms)"
   ]
  },
  {
   "cell_type": "code",
   "execution_count": null,
   "metadata": {},
   "outputs": [],
   "source": []
  }
 ],
 "metadata": {
  "kernelspec": {
   "display_name": "Python 3",
   "language": "python",
   "name": "python3"
  },
  "language_info": {
   "codemirror_mode": {
    "name": "ipython",
    "version": 3
   },
   "file_extension": ".py",
   "mimetype": "text/x-python",
   "name": "python",
   "nbconvert_exporter": "python",
   "pygments_lexer": "ipython3",
   "version": "3.7.11"
  }
 },
 "nbformat": 4,
 "nbformat_minor": 2
}

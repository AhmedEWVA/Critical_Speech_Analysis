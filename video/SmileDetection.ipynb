{
  "nbformat": 4,
  "nbformat_minor": 5,
  "metadata": {
    "colab": {
      "name": "SmileDetection.ipynb",
      "provenance": [],
      "collapsed_sections": []
    },
    "kernelspec": {
      "display_name": "Python 3",
      "language": "python",
      "name": "python3"
    },
    "language_info": {
      "codemirror_mode": {
        "name": "ipython",
        "version": 3
      },
      "file_extension": ".py",
      "mimetype": "text/x-python",
      "name": "python",
      "nbconvert_exporter": "python",
      "pygments_lexer": "ipython3",
      "version": "3.8.2"
    }
  },
  "cells": [
    {
      "cell_type": "code",
      "metadata": {
        "id": "26cca82f"
      },
      "source": [
        "from keras.preprocessing.image import img_to_array\n",
        "from keras.models import load_model\n",
        "import numpy as np\n",
        "import argparse\n",
        "import imutils\n",
        "import cv2\n",
        "import pandas as pd"
      ],
      "id": "26cca82f",
      "execution_count": null,
      "outputs": []
    },
    {
      "cell_type": "code",
      "metadata": {
        "id": "c3794da8"
      },
      "source": [
        "# load the face detector cascade and smile detector CNN\n",
        "detector = cv2.CascadeClassifier('haarcascade_frontalface_default.xml')\n",
        "model = load_model('lenet.hdf5')\n",
        "camera = cv2.VideoCapture('P3.avi')\n",
        "labels = []\n",
        "index = []\n",
        "\n",
        "while True:\n",
        "    # grab the current frame\n",
        "    curTimeMiliSec = camera.get(0) #current time\n",
        "    (grabbed, frame) = camera.read()\n",
        "\n",
        "    # if we are viewing a video and we did not grab a frame,\n",
        "    # then we have reached the end of the video\n",
        "    if not grabbed:\n",
        "        break\n",
        "\n",
        "    if (curTimeMiliSec % 1000 != 0): continue\n",
        "\n",
        "    index.append(curTimeMiliSec)\n",
        "\n",
        "    # reszie the frame, convert it to grayscale, then clone the\n",
        "    # original frame so we can draw on it later in the program\n",
        "    frame = imutils.resize(frame, width = 300)\n",
        "    gray = cv2.cvtColor(frame, cv2.COLOR_BGR2GRAY)\n",
        "    frameClone = frame.copy()\n",
        "\n",
        "    # detect faces in the input frame, then clone the frame so\n",
        "    # that we can draw on it\n",
        "    rects = detector.detectMultiScale(gray, scaleFactor = 1.1, minNeighbors = 5,\n",
        "        minSize = (30, 30), flags = cv2.CASCADE_SCALE_IMAGE)\n",
        "    \n",
        "    label = 'NaN'\n",
        "    for (fX, fY, fW, fH) in rects:\n",
        "        # extract the ROI of the face from the grayscale image,\n",
        "        # resize it to a fixed 28x28 pixels, and then prepare the\n",
        "        # ROI for classification via CNN\n",
        "        roi = gray[fY: fY + fH, fX: fX + fW]\n",
        "        roi = cv2.resize(roi, (28, 28))\n",
        "        roi = roi.astype(\"float\") / 255.0\n",
        "        roi = img_to_array(roi)\n",
        "        roi = np.expand_dims(roi, axis = 0)\n",
        "\n",
        "        # determine the probabilities of both \"smiling\" and \"not similing\"\n",
        "        # then set the label accordingly\n",
        "        (notSmiling, smiling) = model.predict(roi)[0]\n",
        "        label = \"Smiling\" if smiling > notSmiling else \"Not Smiling\"\n",
        "    labels.append(label)\n",
        "\n",
        "\n",
        "    # if 'q' key is pressed, stop the loop\n",
        "    if cv2.waitKey(1) & 0xFF == ord(\"q\"):\n",
        "        break\n",
        "\n",
        "# cleanup the camera and close any open windows\n",
        "camera.release()\n",
        "cv2.destroyAllWindows()"
      ],
      "id": "c3794da8",
      "execution_count": null,
      "outputs": []
    },
    {
      "cell_type": "code",
      "metadata": {
        "id": "mgSiWseHqRuP"
      },
      "source": [
        "smile_features = pd.Series(labels, index=index)"
      ],
      "id": "mgSiWseHqRuP",
      "execution_count": null,
      "outputs": []
    },
    {
      "cell_type": "code",
      "metadata": {
        "colab": {
          "base_uri": "https://localhost:8080/"
        },
        "id": "JbpQ1zeIRqwp",
        "outputId": "855ad49b-0344-4671-9f21-5695f5934891"
      },
      "source": [
        "pd.DataFrame(smile_features).groupby(0).size()"
      ],
      "id": "JbpQ1zeIRqwp",
      "execution_count": null,
      "outputs": [
        {
          "output_type": "execute_result",
          "data": {
            "text/plain": [
              "0\n",
              "NaN             91\n",
              "Not Smiling    331\n",
              "Smiling         52\n",
              "dtype: int64"
            ]
          },
          "metadata": {},
          "execution_count": 9
        }
      ]
    },
    {
      "cell_type": "code",
      "metadata": {
        "id": "_9L58gCJRrdL"
      },
      "source": [
        ""
      ],
      "id": "_9L58gCJRrdL",
      "execution_count": null,
      "outputs": []
    }
  ]
}